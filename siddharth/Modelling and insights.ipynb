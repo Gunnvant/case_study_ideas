{
 "cells": [
  {
   "cell_type": "markdown",
   "id": "e0e97975",
   "metadata": {},
   "source": [
    "# Modelling and insights"
   ]
  },
  {
   "cell_type": "markdown",
   "id": "403897de",
   "metadata": {},
   "source": [
    "----------------------"
   ]
  },
  {
   "cell_type": "markdown",
   "id": "d0e6a890",
   "metadata": {},
   "source": [
    "### Importing stuff"
   ]
  },
  {
   "cell_type": "code",
   "execution_count": 1,
   "id": "4a1f0ede",
   "metadata": {},
   "outputs": [],
   "source": [
    "import pandas as pd\n",
    "import numpy as np\n",
    "import seaborn as sns\n",
    "import matplotlib.pyplot as plt "
   ]
  },
  {
   "cell_type": "code",
   "execution_count": 2,
   "id": "ea0f35d4",
   "metadata": {},
   "outputs": [],
   "source": [
    "df = pd.read_csv('train_cleaned_combined_airbnb.csv')\n",
    "df.drop(['Unnamed: 0'],axis=1,inplace=True)\n",
    "pd.options.display.max_columns = None"
   ]
  },
  {
   "cell_type": "code",
   "execution_count": 3,
   "id": "716498a0",
   "metadata": {},
   "outputs": [
    {
     "data": {
      "text/html": [
       "<div>\n",
       "<style scoped>\n",
       "    .dataframe tbody tr th:only-of-type {\n",
       "        vertical-align: middle;\n",
       "    }\n",
       "\n",
       "    .dataframe tbody tr th {\n",
       "        vertical-align: top;\n",
       "    }\n",
       "\n",
       "    .dataframe thead th {\n",
       "        text-align: right;\n",
       "    }\n",
       "</style>\n",
       "<table border=\"1\" class=\"dataframe\">\n",
       "  <thead>\n",
       "    <tr style=\"text-align: right;\">\n",
       "      <th></th>\n",
       "      <th>available</th>\n",
       "      <th>price</th>\n",
       "      <th>minimum_nights</th>\n",
       "      <th>maximum_nights</th>\n",
       "      <th>room_type</th>\n",
       "      <th>accomodates</th>\n",
       "      <th>bedrooms</th>\n",
       "      <th>beds</th>\n",
       "      <th>total_reviews</th>\n",
       "      <th>days_since_review</th>\n",
       "      <th>comment_length</th>\n",
       "      <th>days_since_joined</th>\n",
       "      <th>host_location_country</th>\n",
       "      <th>property_type_kind</th>\n",
       "      <th>no_of_bath</th>\n",
       "      <th>type_of_bath</th>\n",
       "      <th>number_of_amneties</th>\n",
       "    </tr>\n",
       "  </thead>\n",
       "  <tbody>\n",
       "    <tr>\n",
       "      <th>0</th>\n",
       "      <td>0.0</td>\n",
       "      <td>166.666667</td>\n",
       "      <td>1.000000</td>\n",
       "      <td>60.0</td>\n",
       "      <td>Hotel room</td>\n",
       "      <td>2.0</td>\n",
       "      <td>1.0</td>\n",
       "      <td>1.0</td>\n",
       "      <td>2.0</td>\n",
       "      <td>1358.500000</td>\n",
       "      <td>255.500000</td>\n",
       "      <td>4234</td>\n",
       "      <td>Belgium</td>\n",
       "      <td>Private</td>\n",
       "      <td>1.0</td>\n",
       "      <td>Private</td>\n",
       "      <td>33</td>\n",
       "    </tr>\n",
       "    <tr>\n",
       "      <th>1</th>\n",
       "      <td>0.0</td>\n",
       "      <td>175.000000</td>\n",
       "      <td>1.666667</td>\n",
       "      <td>1125.0</td>\n",
       "      <td>Hotel room</td>\n",
       "      <td>2.0</td>\n",
       "      <td>1.0</td>\n",
       "      <td>1.0</td>\n",
       "      <td>2.0</td>\n",
       "      <td>619.000000</td>\n",
       "      <td>127.000000</td>\n",
       "      <td>4234</td>\n",
       "      <td>Belgium</td>\n",
       "      <td>Private</td>\n",
       "      <td>1.0</td>\n",
       "      <td>Private</td>\n",
       "      <td>31</td>\n",
       "    </tr>\n",
       "    <tr>\n",
       "      <th>2</th>\n",
       "      <td>1.0</td>\n",
       "      <td>215.000000</td>\n",
       "      <td>3.000000</td>\n",
       "      <td>1125.0</td>\n",
       "      <td>Entire home/apt</td>\n",
       "      <td>4.0</td>\n",
       "      <td>2.0</td>\n",
       "      <td>2.0</td>\n",
       "      <td>6.0</td>\n",
       "      <td>1694.500000</td>\n",
       "      <td>300.166667</td>\n",
       "      <td>4234</td>\n",
       "      <td>Belgium</td>\n",
       "      <td>Entire</td>\n",
       "      <td>1.5</td>\n",
       "      <td>Private</td>\n",
       "      <td>46</td>\n",
       "    </tr>\n",
       "    <tr>\n",
       "      <th>3</th>\n",
       "      <td>1.0</td>\n",
       "      <td>200.000000</td>\n",
       "      <td>2.000000</td>\n",
       "      <td>1125.0</td>\n",
       "      <td>Entire home/apt</td>\n",
       "      <td>4.0</td>\n",
       "      <td>2.0</td>\n",
       "      <td>2.0</td>\n",
       "      <td>15.0</td>\n",
       "      <td>1603.866667</td>\n",
       "      <td>362.866667</td>\n",
       "      <td>4234</td>\n",
       "      <td>Belgium</td>\n",
       "      <td>Entire</td>\n",
       "      <td>1.5</td>\n",
       "      <td>Private</td>\n",
       "      <td>44</td>\n",
       "    </tr>\n",
       "    <tr>\n",
       "      <th>4</th>\n",
       "      <td>1.0</td>\n",
       "      <td>150.000000</td>\n",
       "      <td>2.000000</td>\n",
       "      <td>1125.0</td>\n",
       "      <td>Entire home/apt</td>\n",
       "      <td>4.0</td>\n",
       "      <td>2.0</td>\n",
       "      <td>2.0</td>\n",
       "      <td>120.0</td>\n",
       "      <td>1540.908333</td>\n",
       "      <td>265.266667</td>\n",
       "      <td>3992</td>\n",
       "      <td>Belgium</td>\n",
       "      <td>Entire</td>\n",
       "      <td>2.5</td>\n",
       "      <td>Private</td>\n",
       "      <td>45</td>\n",
       "    </tr>\n",
       "  </tbody>\n",
       "</table>\n",
       "</div>"
      ],
      "text/plain": [
       "   available       price  minimum_nights  maximum_nights        room_type  \\\n",
       "0        0.0  166.666667        1.000000            60.0       Hotel room   \n",
       "1        0.0  175.000000        1.666667          1125.0       Hotel room   \n",
       "2        1.0  215.000000        3.000000          1125.0  Entire home/apt   \n",
       "3        1.0  200.000000        2.000000          1125.0  Entire home/apt   \n",
       "4        1.0  150.000000        2.000000          1125.0  Entire home/apt   \n",
       "\n",
       "   accomodates  bedrooms  beds  total_reviews  days_since_review  \\\n",
       "0          2.0       1.0   1.0            2.0        1358.500000   \n",
       "1          2.0       1.0   1.0            2.0         619.000000   \n",
       "2          4.0       2.0   2.0            6.0        1694.500000   \n",
       "3          4.0       2.0   2.0           15.0        1603.866667   \n",
       "4          4.0       2.0   2.0          120.0        1540.908333   \n",
       "\n",
       "   comment_length  days_since_joined host_location_country property_type_kind  \\\n",
       "0      255.500000               4234               Belgium            Private   \n",
       "1      127.000000               4234               Belgium            Private   \n",
       "2      300.166667               4234               Belgium             Entire   \n",
       "3      362.866667               4234               Belgium             Entire   \n",
       "4      265.266667               3992               Belgium             Entire   \n",
       "\n",
       "   no_of_bath type_of_bath  number_of_amneties  \n",
       "0         1.0      Private                  33  \n",
       "1         1.0      Private                  31  \n",
       "2         1.5      Private                  46  \n",
       "3         1.5      Private                  44  \n",
       "4         2.5      Private                  45  "
      ]
     },
     "execution_count": 3,
     "metadata": {},
     "output_type": "execute_result"
    }
   ],
   "source": [
    "df.head()"
   ]
  },
  {
   "cell_type": "code",
   "execution_count": 4,
   "id": "4db00caa",
   "metadata": {},
   "outputs": [
    {
     "name": "stdout",
     "output_type": "stream",
     "text": [
      "<class 'pandas.core.frame.DataFrame'>\n",
      "RangeIndex: 1699 entries, 0 to 1698\n",
      "Data columns (total 17 columns):\n",
      " #   Column                 Non-Null Count  Dtype  \n",
      "---  ------                 --------------  -----  \n",
      " 0   available              1699 non-null   float64\n",
      " 1   price                  1699 non-null   float64\n",
      " 2   minimum_nights         1699 non-null   float64\n",
      " 3   maximum_nights         1699 non-null   float64\n",
      " 4   room_type              1699 non-null   object \n",
      " 5   accomodates            1699 non-null   float64\n",
      " 6   bedrooms               1699 non-null   float64\n",
      " 7   beds                   1699 non-null   float64\n",
      " 8   total_reviews          1699 non-null   float64\n",
      " 9   days_since_review      1699 non-null   float64\n",
      " 10  comment_length         1699 non-null   float64\n",
      " 11  days_since_joined      1699 non-null   int64  \n",
      " 12  host_location_country  1699 non-null   object \n",
      " 13  property_type_kind     1699 non-null   object \n",
      " 14  no_of_bath             1699 non-null   float64\n",
      " 15  type_of_bath           1699 non-null   object \n",
      " 16  number_of_amneties     1699 non-null   int64  \n",
      "dtypes: float64(11), int64(2), object(4)\n",
      "memory usage: 225.8+ KB\n"
     ]
    }
   ],
   "source": [
    "df.info()"
   ]
  },
  {
   "cell_type": "markdown",
   "id": "7f81caeb",
   "metadata": {},
   "source": [
    "----------------"
   ]
  },
  {
   "cell_type": "markdown",
   "id": "3d79586f",
   "metadata": {},
   "source": [
    "### Converting to categorical"
   ]
  },
  {
   "cell_type": "code",
   "execution_count": 5,
   "id": "12271b86",
   "metadata": {},
   "outputs": [],
   "source": [
    "df['available'] = pd.Categorical(df.available)\n",
    "df['room_type'] = pd.Categorical(df.room_type)\n",
    "df['host_location_country'] = pd.Categorical(df.host_location_country)\n",
    "df['property_type_kind'] = pd.Categorical(df.property_type_kind)\n",
    "df['type_of_bath'] = pd.Categorical(df.type_of_bath)\n",
    "df['accomodates'] = pd.Categorical(df.accomodates)\n",
    "df['bedrooms'] = pd.Categorical(df.bedrooms)\n",
    "df['beds'] = pd.Categorical(df.beds)\n",
    "df['no_of_bath'] = pd.Categorical(df.no_of_bath)"
   ]
  },
  {
   "cell_type": "code",
   "execution_count": 6,
   "id": "2048fc76",
   "metadata": {},
   "outputs": [
    {
     "name": "stdout",
     "output_type": "stream",
     "text": [
      "<class 'pandas.core.frame.DataFrame'>\n",
      "RangeIndex: 1699 entries, 0 to 1698\n",
      "Data columns (total 17 columns):\n",
      " #   Column                 Non-Null Count  Dtype   \n",
      "---  ------                 --------------  -----   \n",
      " 0   available              1699 non-null   category\n",
      " 1   price                  1699 non-null   float64 \n",
      " 2   minimum_nights         1699 non-null   float64 \n",
      " 3   maximum_nights         1699 non-null   float64 \n",
      " 4   room_type              1699 non-null   category\n",
      " 5   accomodates            1699 non-null   category\n",
      " 6   bedrooms               1699 non-null   category\n",
      " 7   beds                   1699 non-null   category\n",
      " 8   total_reviews          1699 non-null   float64 \n",
      " 9   days_since_review      1699 non-null   float64 \n",
      " 10  comment_length         1699 non-null   float64 \n",
      " 11  days_since_joined      1699 non-null   int64   \n",
      " 12  host_location_country  1699 non-null   category\n",
      " 13  property_type_kind     1699 non-null   category\n",
      " 14  no_of_bath             1699 non-null   category\n",
      " 15  type_of_bath           1699 non-null   category\n",
      " 16  number_of_amneties     1699 non-null   int64   \n",
      "dtypes: category(9), float64(6), int64(2)\n",
      "memory usage: 125.0 KB\n"
     ]
    }
   ],
   "source": [
    "df.info()"
   ]
  },
  {
   "cell_type": "markdown",
   "id": "6caafb4d",
   "metadata": {},
   "source": [
    "------------------"
   ]
  },
  {
   "cell_type": "markdown",
   "id": "97754800",
   "metadata": {},
   "source": [
    "### Encoding \n",
    "The conversion to categorical columns will help.\n",
    "- Here, we have decided to make certain column categorical, which could have been int.\n",
    "- Let's see how that performs, and we can go back and change them to int, if we like."
   ]
  },
  {
   "cell_type": "code",
   "execution_count": 7,
   "id": "d1b2d949",
   "metadata": {},
   "outputs": [],
   "source": [
    "df = pd.get_dummies(df)"
   ]
  },
  {
   "cell_type": "markdown",
   "id": "a2299e7d",
   "metadata": {},
   "source": [
    "--------------------"
   ]
  },
  {
   "cell_type": "markdown",
   "id": "172bd9ce",
   "metadata": {},
   "source": [
    "### Train Test Split "
   ]
  },
  {
   "cell_type": "code",
   "execution_count": 8,
   "id": "5196901b",
   "metadata": {},
   "outputs": [],
   "source": [
    "from sklearn.model_selection import train_test_split\n",
    "from math import sqrt"
   ]
  },
  {
   "cell_type": "code",
   "execution_count": 9,
   "id": "928a4d8d",
   "metadata": {},
   "outputs": [],
   "source": [
    "X = df.drop(['price'],axis=1)\n",
    "y = df['price']"
   ]
  },
  {
   "cell_type": "code",
   "execution_count": 10,
   "id": "e95f1d37",
   "metadata": {},
   "outputs": [],
   "source": [
    "X_train, X_test, y_train, y_test = train_test_split(X, y, test_size=0.25, random_state=42)"
   ]
  },
  {
   "cell_type": "markdown",
   "id": "1319b5c9",
   "metadata": {},
   "source": [
    "---------------------------------"
   ]
  },
  {
   "cell_type": "markdown",
   "id": "2995d24d",
   "metadata": {},
   "source": [
    "## Modelling"
   ]
  },
  {
   "cell_type": "markdown",
   "id": "6e080028",
   "metadata": {},
   "source": [
    "Linear Regression"
   ]
  },
  {
   "cell_type": "code",
   "execution_count": 11,
   "id": "647ee148",
   "metadata": {},
   "outputs": [],
   "source": [
    "from sklearn.linear_model import LinearRegression\n",
    "from sklearn.metrics import mean_squared_error"
   ]
  },
  {
   "cell_type": "code",
   "execution_count": 12,
   "id": "689fe6ef",
   "metadata": {},
   "outputs": [],
   "source": [
    "reg = LinearRegression()\n",
    "model = reg.fit(X_train, y_train)"
   ]
  },
  {
   "cell_type": "code",
   "execution_count": 13,
   "id": "a29da6d0",
   "metadata": {},
   "outputs": [
    {
     "data": {
      "text/plain": [
       "0.5032488603240926"
      ]
     },
     "execution_count": 13,
     "metadata": {},
     "output_type": "execute_result"
    }
   ],
   "source": [
    "model.score(X_train, y_train)"
   ]
  },
  {
   "cell_type": "markdown",
   "id": "66321326",
   "metadata": {},
   "source": [
    "Model has been trained\n",
    "- We can see the intercept and the coefficients for the variables"
   ]
  },
  {
   "cell_type": "code",
   "execution_count": 14,
   "id": "1042f58e",
   "metadata": {},
   "outputs": [
    {
     "data": {
      "text/plain": [
       "310.15212336260765"
      ]
     },
     "execution_count": 14,
     "metadata": {},
     "output_type": "execute_result"
    }
   ],
   "source": [
    "# Intercept\n",
    "model.intercept_"
   ]
  },
  {
   "cell_type": "code",
   "execution_count": 15,
   "id": "bff2c5e8",
   "metadata": {},
   "outputs": [
    {
     "data": {
      "text/plain": [
       "array([ 7.64596469e-02,  2.94674780e-04, -8.06299017e-02,  6.12480530e-03,\n",
       "       -2.01088179e-02, -1.18823208e-02,  8.66377140e-02, -3.25441662e+00,\n",
       "        8.37134725e+00,  2.58780863e+00, -7.70473926e+00, -1.99520173e+01,\n",
       "        1.76070931e+01,  6.68300231e+00, -4.33807817e+00, -8.21749028e+01,\n",
       "       -4.26000280e+01, -4.40150117e+01, -3.07139744e+01, -5.52631103e+01,\n",
       "       -2.70945604e+01, -3.61438687e+01,  4.58592581e+01, -3.98477729e+01,\n",
       "        4.69929238e+01, -1.71552149e+01, -7.37280383e+01, -9.99604018e+01,\n",
       "       -9.36879723e+01,  5.49532675e+02,  7.37379304e+01,  1.02953671e+02,\n",
       "        1.59680037e+02,  1.42499096e+02,  2.79359173e+02,  6.36428371e+02,\n",
       "       -4.46257950e+02, -4.24900070e+01, -2.22568238e+02, -4.05719802e+02,\n",
       "       -4.10134934e+01, -2.36608788e+02,  6.74181023e+01,  6.37736882e+01,\n",
       "        6.40904262e+01,  4.48858191e+01,  4.24923932e+01,  4.36652671e+01,\n",
       "        1.83464807e+02,  2.12228407e+01,  2.74631380e+02, -4.14665990e+02,\n",
       "       -2.97805234e+01, -4.30864547e+02,  3.50325132e+02, -4.10134934e+01,\n",
       "       -3.51384216e+01, -2.22568238e+02, -4.24900070e+01,  2.97160153e+02,\n",
       "       -2.36608788e+02,  2.13162821e-13, -2.69095644e+01,  1.97118060e+02,\n",
       "       -9.13075661e+00, -1.98951966e-13, -2.17993622e+01, -7.08275755e+01,\n",
       "        4.11553811e+02, -5.47006864e+01,  2.84217094e-14, -2.65465246e+00,\n",
       "       -9.77590146e+01, -5.32907052e-14, -6.88662387e+01,  2.84217094e-13,\n",
       "       -3.79785240e+01, -9.38297084e+00, -8.52651283e-14, -4.97379915e-14,\n",
       "        2.55812821e+00, -4.78796056e+01, -4.47716099e+01, -4.71213546e+01,\n",
       "       -3.91799935e+01, -3.22680900e+01,  5.25926205e+00, -9.21183878e-01,\n",
       "       -4.33807817e+00, -1.18400207e+02, -3.20748693e+02, -2.79353085e+02,\n",
       "       -2.75446950e+02, -2.62651285e+02, -2.19039930e+02, -1.97668614e+02,\n",
       "       -2.21018149e+02, -5.16652291e+02, -1.44109712e+02,  1.78680205e+03,\n",
       "        4.71192665e+02,  2.97160153e+02,  8.34375489e+01, -4.24900070e+01,\n",
       "       -4.10134934e+01,  1.89616359e+01, -1.89616359e+01])"
      ]
     },
     "execution_count": 15,
     "metadata": {},
     "output_type": "execute_result"
    }
   ],
   "source": [
    "model.coef_"
   ]
  },
  {
   "cell_type": "markdown",
   "id": "a5c95227",
   "metadata": {},
   "source": [
    "Getting the predictions"
   ]
  },
  {
   "cell_type": "code",
   "execution_count": 16,
   "id": "5ea02fe2",
   "metadata": {},
   "outputs": [],
   "source": [
    "predicted = model.predict(X_test)"
   ]
  },
  {
   "cell_type": "markdown",
   "id": "12bc8058",
   "metadata": {},
   "source": [
    "Calculating the RMSE"
   ]
  },
  {
   "cell_type": "code",
   "execution_count": 17,
   "id": "34dee7a7",
   "metadata": {},
   "outputs": [
    {
     "data": {
      "text/plain": [
       "84361.31697412711"
      ]
     },
     "execution_count": 17,
     "metadata": {},
     "output_type": "execute_result"
    }
   ],
   "source": [
    "mse = mean_squared_error(y_test, predicted)\n",
    "mse"
   ]
  },
  {
   "cell_type": "code",
   "execution_count": 18,
   "id": "1266d61d",
   "metadata": {},
   "outputs": [
    {
     "data": {
      "text/plain": [
       "290.45019706332977"
      ]
     },
     "execution_count": 18,
     "metadata": {},
     "output_type": "execute_result"
    }
   ],
   "source": [
    "rmse = sqrt(mse)\n",
    "rmse"
   ]
  },
  {
   "cell_type": "markdown",
   "id": "12bbd318",
   "metadata": {},
   "source": [
    "So, this is our baseline score.\n",
    "- This is what we got, without tinkering with any model settings\n",
    "- Let's see if we can do better than that"
   ]
  },
  {
   "cell_type": "code",
   "execution_count": 19,
   "id": "6e0b000b",
   "metadata": {},
   "outputs": [
    {
     "data": {
      "text/html": [
       "<div>\n",
       "<style scoped>\n",
       "    .dataframe tbody tr th:only-of-type {\n",
       "        vertical-align: middle;\n",
       "    }\n",
       "\n",
       "    .dataframe tbody tr th {\n",
       "        vertical-align: top;\n",
       "    }\n",
       "\n",
       "    .dataframe thead th {\n",
       "        text-align: right;\n",
       "    }\n",
       "</style>\n",
       "<table border=\"1\" class=\"dataframe\">\n",
       "  <thead>\n",
       "    <tr style=\"text-align: right;\">\n",
       "      <th></th>\n",
       "      <th>Linear Regression</th>\n",
       "    </tr>\n",
       "  </thead>\n",
       "  <tbody>\n",
       "    <tr>\n",
       "      <th>0</th>\n",
       "      <td>290.450197</td>\n",
       "    </tr>\n",
       "  </tbody>\n",
       "</table>\n",
       "</div>"
      ],
      "text/plain": [
       "   Linear Regression\n",
       "0         290.450197"
      ]
     },
     "execution_count": 19,
     "metadata": {},
     "output_type": "execute_result"
    }
   ],
   "source": [
    "# Making a Dataframe for scores\n",
    "df_score = pd.DataFrame({\"Linear Regression\":[rmse]})\n",
    "df_score"
   ]
  },
  {
   "cell_type": "markdown",
   "id": "41f90eb9",
   "metadata": {},
   "source": [
    "---------------------"
   ]
  },
  {
   "cell_type": "markdown",
   "id": "46b09e8b",
   "metadata": {},
   "source": [
    "### Decision Tree Regressor"
   ]
  },
  {
   "cell_type": "code",
   "execution_count": 20,
   "id": "855d884c",
   "metadata": {},
   "outputs": [],
   "source": [
    "from sklearn.tree import DecisionTreeRegressor"
   ]
  },
  {
   "cell_type": "code",
   "execution_count": 21,
   "id": "747c7c1d",
   "metadata": {},
   "outputs": [],
   "source": [
    "regressor = DecisionTreeRegressor(random_state=0)"
   ]
  },
  {
   "cell_type": "code",
   "execution_count": 22,
   "id": "d31d380c",
   "metadata": {},
   "outputs": [],
   "source": [
    "model = regressor.fit(X_train, y_train)"
   ]
  },
  {
   "cell_type": "code",
   "execution_count": 23,
   "id": "51f70406",
   "metadata": {},
   "outputs": [
    {
     "data": {
      "text/plain": [
       "DecisionTreeRegressor(random_state=0)"
      ]
     },
     "execution_count": 23,
     "metadata": {},
     "output_type": "execute_result"
    }
   ],
   "source": [
    "model"
   ]
  },
  {
   "cell_type": "markdown",
   "id": "268695b2",
   "metadata": {},
   "source": [
    "Getting the predictions"
   ]
  },
  {
   "cell_type": "code",
   "execution_count": 24,
   "id": "7ba4f58d",
   "metadata": {},
   "outputs": [],
   "source": [
    "predicted = model.predict(X_test)"
   ]
  },
  {
   "cell_type": "markdown",
   "id": "97da1f19",
   "metadata": {},
   "source": [
    "Calculating the RMSE"
   ]
  },
  {
   "cell_type": "code",
   "execution_count": 25,
   "id": "f57241b1",
   "metadata": {},
   "outputs": [
    {
     "data": {
      "text/plain": [
       "91224.25751633986"
      ]
     },
     "execution_count": 25,
     "metadata": {},
     "output_type": "execute_result"
    }
   ],
   "source": [
    "mse = mean_squared_error(y_test, predicted)\n",
    "mse"
   ]
  },
  {
   "cell_type": "code",
   "execution_count": 26,
   "id": "2e9f3599",
   "metadata": {},
   "outputs": [
    {
     "data": {
      "text/plain": [
       "302.0335370721931"
      ]
     },
     "execution_count": 26,
     "metadata": {},
     "output_type": "execute_result"
    }
   ],
   "source": [
    "rmse = sqrt(mse)\n",
    "rmse"
   ]
  },
  {
   "cell_type": "markdown",
   "id": "90a72cd5",
   "metadata": {},
   "source": [
    "This is worse than our Linear regression. Let's try out some other options we have."
   ]
  },
  {
   "cell_type": "code",
   "execution_count": 27,
   "id": "493429c6",
   "metadata": {
    "scrolled": true
   },
   "outputs": [
    {
     "data": {
      "text/html": [
       "<div>\n",
       "<style scoped>\n",
       "    .dataframe tbody tr th:only-of-type {\n",
       "        vertical-align: middle;\n",
       "    }\n",
       "\n",
       "    .dataframe tbody tr th {\n",
       "        vertical-align: top;\n",
       "    }\n",
       "\n",
       "    .dataframe thead th {\n",
       "        text-align: right;\n",
       "    }\n",
       "</style>\n",
       "<table border=\"1\" class=\"dataframe\">\n",
       "  <thead>\n",
       "    <tr style=\"text-align: right;\">\n",
       "      <th></th>\n",
       "      <th>Linear Regression</th>\n",
       "      <th>Decision Tree</th>\n",
       "    </tr>\n",
       "  </thead>\n",
       "  <tbody>\n",
       "    <tr>\n",
       "      <th>0</th>\n",
       "      <td>290.450197</td>\n",
       "      <td>302.033537</td>\n",
       "    </tr>\n",
       "  </tbody>\n",
       "</table>\n",
       "</div>"
      ],
      "text/plain": [
       "   Linear Regression  Decision Tree\n",
       "0         290.450197     302.033537"
      ]
     },
     "execution_count": 27,
     "metadata": {},
     "output_type": "execute_result"
    }
   ],
   "source": [
    "# Adding to the Dataframe for scores\n",
    "df_score[\"Decision Tree\"] = [rmse]\n",
    "df_score"
   ]
  },
  {
   "cell_type": "markdown",
   "id": "854ecd75",
   "metadata": {},
   "source": [
    "---------------"
   ]
  },
  {
   "cell_type": "markdown",
   "id": "8fa7eef6",
   "metadata": {},
   "source": [
    "### Random Forest Regressor"
   ]
  },
  {
   "cell_type": "code",
   "execution_count": 28,
   "id": "c78fe8aa",
   "metadata": {},
   "outputs": [],
   "source": [
    "from sklearn.ensemble import RandomForestRegressor\n",
    "regr = RandomForestRegressor(max_depth=2, random_state=0)"
   ]
  },
  {
   "cell_type": "code",
   "execution_count": 29,
   "id": "8c577ab6",
   "metadata": {},
   "outputs": [],
   "source": [
    "model = regr.fit(X_train, y_train)"
   ]
  },
  {
   "cell_type": "code",
   "execution_count": 30,
   "id": "94b7c83a",
   "metadata": {},
   "outputs": [
    {
     "data": {
      "text/plain": [
       "RandomForestRegressor(max_depth=2, random_state=0)"
      ]
     },
     "execution_count": 30,
     "metadata": {},
     "output_type": "execute_result"
    }
   ],
   "source": [
    "model"
   ]
  },
  {
   "cell_type": "markdown",
   "id": "7db9df3c",
   "metadata": {},
   "source": [
    "Getting the predictions"
   ]
  },
  {
   "cell_type": "code",
   "execution_count": 31,
   "id": "03230271",
   "metadata": {},
   "outputs": [],
   "source": [
    "predicted = model.predict(X_test)"
   ]
  },
  {
   "cell_type": "markdown",
   "id": "3fc32290",
   "metadata": {},
   "source": [
    "Calculating the RMSE"
   ]
  },
  {
   "cell_type": "code",
   "execution_count": 32,
   "id": "fd51ba7a",
   "metadata": {},
   "outputs": [
    {
     "data": {
      "text/plain": [
       "83339.69880146968"
      ]
     },
     "execution_count": 32,
     "metadata": {},
     "output_type": "execute_result"
    }
   ],
   "source": [
    "mse = mean_squared_error(y_test, predicted)\n",
    "mse"
   ]
  },
  {
   "cell_type": "code",
   "execution_count": 33,
   "id": "74b48aea",
   "metadata": {},
   "outputs": [
    {
     "data": {
      "text/plain": [
       "288.68615969850316"
      ]
     },
     "execution_count": 33,
     "metadata": {},
     "output_type": "execute_result"
    }
   ],
   "source": [
    "rmse = sqrt(mse)\n",
    "rmse"
   ]
  },
  {
   "cell_type": "markdown",
   "id": "a73b72d6",
   "metadata": {},
   "source": [
    "Alright!. \n",
    "Better than Decision trees and a just a bit better than the Linear regression."
   ]
  },
  {
   "cell_type": "code",
   "execution_count": 34,
   "id": "660097d9",
   "metadata": {},
   "outputs": [
    {
     "data": {
      "text/html": [
       "<div>\n",
       "<style scoped>\n",
       "    .dataframe tbody tr th:only-of-type {\n",
       "        vertical-align: middle;\n",
       "    }\n",
       "\n",
       "    .dataframe tbody tr th {\n",
       "        vertical-align: top;\n",
       "    }\n",
       "\n",
       "    .dataframe thead th {\n",
       "        text-align: right;\n",
       "    }\n",
       "</style>\n",
       "<table border=\"1\" class=\"dataframe\">\n",
       "  <thead>\n",
       "    <tr style=\"text-align: right;\">\n",
       "      <th></th>\n",
       "      <th>Linear Regression</th>\n",
       "      <th>Decision Tree</th>\n",
       "      <th>Random Forest</th>\n",
       "    </tr>\n",
       "  </thead>\n",
       "  <tbody>\n",
       "    <tr>\n",
       "      <th>0</th>\n",
       "      <td>290.450197</td>\n",
       "      <td>302.033537</td>\n",
       "      <td>288.68616</td>\n",
       "    </tr>\n",
       "  </tbody>\n",
       "</table>\n",
       "</div>"
      ],
      "text/plain": [
       "   Linear Regression  Decision Tree  Random Forest\n",
       "0         290.450197     302.033537      288.68616"
      ]
     },
     "execution_count": 34,
     "metadata": {},
     "output_type": "execute_result"
    }
   ],
   "source": [
    "# Adding to the Dataframe for scores\n",
    "df_score[\"Random Forest\"] = [rmse]\n",
    "df_score"
   ]
  },
  {
   "cell_type": "markdown",
   "id": "dfdb7818",
   "metadata": {},
   "source": [
    "---------------"
   ]
  },
  {
   "cell_type": "markdown",
   "id": "00959c89",
   "metadata": {},
   "source": [
    "### Gradient Boosting Regressor"
   ]
  },
  {
   "cell_type": "code",
   "execution_count": 35,
   "id": "6928b823",
   "metadata": {},
   "outputs": [],
   "source": [
    "from sklearn.ensemble import GradientBoostingRegressor\n",
    "reg = GradientBoostingRegressor(random_state=0)"
   ]
  },
  {
   "cell_type": "code",
   "execution_count": 36,
   "id": "605cd824",
   "metadata": {},
   "outputs": [],
   "source": [
    "model = reg.fit(X_train, y_train)"
   ]
  },
  {
   "cell_type": "code",
   "execution_count": 37,
   "id": "0b501a32",
   "metadata": {},
   "outputs": [
    {
     "data": {
      "text/plain": [
       "GradientBoostingRegressor(random_state=0)"
      ]
     },
     "execution_count": 37,
     "metadata": {},
     "output_type": "execute_result"
    }
   ],
   "source": [
    "model"
   ]
  },
  {
   "cell_type": "markdown",
   "id": "596e34f3",
   "metadata": {},
   "source": [
    "Getting the predictions"
   ]
  },
  {
   "cell_type": "code",
   "execution_count": 38,
   "id": "2315684b",
   "metadata": {},
   "outputs": [],
   "source": [
    "predicted = model.predict(X_test)"
   ]
  },
  {
   "cell_type": "markdown",
   "id": "4fc75a55",
   "metadata": {},
   "source": [
    "Calculating the RMSE"
   ]
  },
  {
   "cell_type": "code",
   "execution_count": 39,
   "id": "24ea55a9",
   "metadata": {},
   "outputs": [
    {
     "data": {
      "text/plain": [
       "82541.28005440168"
      ]
     },
     "execution_count": 39,
     "metadata": {},
     "output_type": "execute_result"
    }
   ],
   "source": [
    "mse = mean_squared_error(y_test, predicted)\n",
    "mse"
   ]
  },
  {
   "cell_type": "code",
   "execution_count": 40,
   "id": "2a0423e3",
   "metadata": {},
   "outputs": [
    {
     "data": {
      "text/plain": [
       "287.2999826912659"
      ]
     },
     "execution_count": 40,
     "metadata": {},
     "output_type": "execute_result"
    }
   ],
   "source": [
    "rmse = sqrt(mse)\n",
    "rmse"
   ]
  },
  {
   "cell_type": "markdown",
   "id": "d6dbf805",
   "metadata": {},
   "source": [
    "The best we have, but not that better than the rest."
   ]
  },
  {
   "cell_type": "code",
   "execution_count": 41,
   "id": "18499c9d",
   "metadata": {},
   "outputs": [
    {
     "data": {
      "text/html": [
       "<div>\n",
       "<style scoped>\n",
       "    .dataframe tbody tr th:only-of-type {\n",
       "        vertical-align: middle;\n",
       "    }\n",
       "\n",
       "    .dataframe tbody tr th {\n",
       "        vertical-align: top;\n",
       "    }\n",
       "\n",
       "    .dataframe thead th {\n",
       "        text-align: right;\n",
       "    }\n",
       "</style>\n",
       "<table border=\"1\" class=\"dataframe\">\n",
       "  <thead>\n",
       "    <tr style=\"text-align: right;\">\n",
       "      <th></th>\n",
       "      <th>Linear Regression</th>\n",
       "      <th>Decision Tree</th>\n",
       "      <th>Random Forest</th>\n",
       "      <th>Gradient Boosting</th>\n",
       "    </tr>\n",
       "  </thead>\n",
       "  <tbody>\n",
       "    <tr>\n",
       "      <th>0</th>\n",
       "      <td>290.450197</td>\n",
       "      <td>302.033537</td>\n",
       "      <td>288.68616</td>\n",
       "      <td>287.299983</td>\n",
       "    </tr>\n",
       "  </tbody>\n",
       "</table>\n",
       "</div>"
      ],
      "text/plain": [
       "   Linear Regression  Decision Tree  Random Forest  Gradient Boosting\n",
       "0         290.450197     302.033537      288.68616         287.299983"
      ]
     },
     "execution_count": 41,
     "metadata": {},
     "output_type": "execute_result"
    }
   ],
   "source": [
    "# Adding to the Dataframe for scores\n",
    "df_score[\"Gradient Boosting\"] = [rmse]\n",
    "df_score"
   ]
  },
  {
   "cell_type": "markdown",
   "id": "501ec95e",
   "metadata": {},
   "source": [
    "---------------"
   ]
  },
  {
   "cell_type": "markdown",
   "id": "5986bfd1",
   "metadata": {},
   "source": [
    "### xgboost"
   ]
  },
  {
   "cell_type": "code",
   "execution_count": 42,
   "id": "eded05b6",
   "metadata": {},
   "outputs": [],
   "source": [
    "import xgboost as xgb"
   ]
  },
  {
   "cell_type": "code",
   "execution_count": 43,
   "id": "a56f097b",
   "metadata": {},
   "outputs": [],
   "source": [
    "xg_reg = xgb.XGBRegressor(objective ='reg:linear', colsample_bytree = 0.3, learning_rate = 0.1,\n",
    "                max_depth = 5, alpha = 10, n_estimators = 10)"
   ]
  },
  {
   "cell_type": "code",
   "execution_count": 44,
   "id": "c2e2a4da",
   "metadata": {},
   "outputs": [
    {
     "name": "stdout",
     "output_type": "stream",
     "text": [
      "[11:27:31] WARNING: ../src/objective/regression_obj.cu:188: reg:linear is now deprecated in favor of reg:squarederror.\n"
     ]
    },
    {
     "data": {
      "text/plain": [
       "XGBRegressor(alpha=10, base_score=0.5, booster='gbtree', colsample_bylevel=1,\n",
       "             colsample_bynode=1, colsample_bytree=0.3, enable_categorical=False,\n",
       "             gamma=0, gpu_id=-1, importance_type=None,\n",
       "             interaction_constraints='', learning_rate=0.1, max_delta_step=0,\n",
       "             max_depth=5, min_child_weight=1, missing=nan,\n",
       "             monotone_constraints='()', n_estimators=10, n_jobs=12,\n",
       "             num_parallel_tree=1, objective='reg:linear', predictor='auto',\n",
       "             random_state=0, reg_alpha=10, reg_lambda=1, scale_pos_weight=1,\n",
       "             subsample=1, tree_method='exact', validate_parameters=1,\n",
       "             verbosity=None)"
      ]
     },
     "execution_count": 44,
     "metadata": {},
     "output_type": "execute_result"
    }
   ],
   "source": [
    "xg_reg.fit(X_train,y_train)"
   ]
  },
  {
   "cell_type": "markdown",
   "id": "00def949",
   "metadata": {},
   "source": [
    "Getting the predictions"
   ]
  },
  {
   "cell_type": "code",
   "execution_count": 45,
   "id": "9bbeb9d6",
   "metadata": {},
   "outputs": [],
   "source": [
    "predicted = xg_reg.predict(X_test)"
   ]
  },
  {
   "cell_type": "markdown",
   "id": "9b3635b1",
   "metadata": {},
   "source": [
    "Calculating the RMSE"
   ]
  },
  {
   "cell_type": "code",
   "execution_count": 46,
   "id": "977a76b2",
   "metadata": {},
   "outputs": [
    {
     "data": {
      "text/plain": [
       "89127.34250660092"
      ]
     },
     "execution_count": 46,
     "metadata": {},
     "output_type": "execute_result"
    }
   ],
   "source": [
    "mse = mean_squared_error(y_test, predicted)\n",
    "mse"
   ]
  },
  {
   "cell_type": "code",
   "execution_count": 47,
   "id": "f86c6004",
   "metadata": {},
   "outputs": [
    {
     "data": {
      "text/plain": [
       "298.54202804061094"
      ]
     },
     "execution_count": 47,
     "metadata": {},
     "output_type": "execute_result"
    }
   ],
   "source": [
    "rmse = sqrt(mse)\n",
    "rmse"
   ]
  },
  {
   "cell_type": "markdown",
   "id": "51c71c40",
   "metadata": {},
   "source": [
    "Not our best model yet."
   ]
  },
  {
   "cell_type": "code",
   "execution_count": 48,
   "id": "d12de1f7",
   "metadata": {},
   "outputs": [
    {
     "data": {
      "text/html": [
       "<div>\n",
       "<style scoped>\n",
       "    .dataframe tbody tr th:only-of-type {\n",
       "        vertical-align: middle;\n",
       "    }\n",
       "\n",
       "    .dataframe tbody tr th {\n",
       "        vertical-align: top;\n",
       "    }\n",
       "\n",
       "    .dataframe thead th {\n",
       "        text-align: right;\n",
       "    }\n",
       "</style>\n",
       "<table border=\"1\" class=\"dataframe\">\n",
       "  <thead>\n",
       "    <tr style=\"text-align: right;\">\n",
       "      <th></th>\n",
       "      <th>Linear Regression</th>\n",
       "      <th>Decision Tree</th>\n",
       "      <th>Random Forest</th>\n",
       "      <th>Gradient Boosting</th>\n",
       "      <th>Xgboost</th>\n",
       "    </tr>\n",
       "  </thead>\n",
       "  <tbody>\n",
       "    <tr>\n",
       "      <th>0</th>\n",
       "      <td>290.450197</td>\n",
       "      <td>302.033537</td>\n",
       "      <td>288.68616</td>\n",
       "      <td>287.299983</td>\n",
       "      <td>298.542028</td>\n",
       "    </tr>\n",
       "  </tbody>\n",
       "</table>\n",
       "</div>"
      ],
      "text/plain": [
       "   Linear Regression  Decision Tree  Random Forest  Gradient Boosting  \\\n",
       "0         290.450197     302.033537      288.68616         287.299983   \n",
       "\n",
       "      Xgboost  \n",
       "0  298.542028  "
      ]
     },
     "execution_count": 48,
     "metadata": {},
     "output_type": "execute_result"
    }
   ],
   "source": [
    "# Adding to the Dataframe for scores\n",
    "df_score[\"Xgboost\"] = [rmse]\n",
    "df_score"
   ]
  },
  {
   "cell_type": "markdown",
   "id": "a7c3ba4c",
   "metadata": {},
   "source": [
    "---------------"
   ]
  },
  {
   "cell_type": "markdown",
   "id": "a47eddf7",
   "metadata": {},
   "source": [
    "### Lightgbm"
   ]
  },
  {
   "cell_type": "code",
   "execution_count": 49,
   "id": "d232fb6a",
   "metadata": {},
   "outputs": [],
   "source": [
    "# lightgbm for regression\n",
    "from lightgbm import LGBMRegressor"
   ]
  },
  {
   "cell_type": "code",
   "execution_count": 50,
   "id": "dc26fbd8",
   "metadata": {},
   "outputs": [],
   "source": [
    "model = LGBMRegressor()"
   ]
  },
  {
   "cell_type": "code",
   "execution_count": 51,
   "id": "b91f61c9",
   "metadata": {},
   "outputs": [
    {
     "data": {
      "text/plain": [
       "LGBMRegressor()"
      ]
     },
     "execution_count": 51,
     "metadata": {},
     "output_type": "execute_result"
    }
   ],
   "source": [
    "model.fit(X_train,y_train)"
   ]
  },
  {
   "cell_type": "markdown",
   "id": "9696bdbb",
   "metadata": {},
   "source": [
    "Getting the predictions"
   ]
  },
  {
   "cell_type": "code",
   "execution_count": 52,
   "id": "3d595e98",
   "metadata": {},
   "outputs": [],
   "source": [
    "predicted = model.predict(X_test)"
   ]
  },
  {
   "cell_type": "markdown",
   "id": "bd786410",
   "metadata": {},
   "source": [
    "Calculating the RMSE"
   ]
  },
  {
   "cell_type": "code",
   "execution_count": 53,
   "id": "6fa1f2a4",
   "metadata": {},
   "outputs": [
    {
     "data": {
      "text/plain": [
       "80672.0337659585"
      ]
     },
     "execution_count": 53,
     "metadata": {},
     "output_type": "execute_result"
    }
   ],
   "source": [
    "mse = mean_squared_error(y_test, predicted)\n",
    "mse"
   ]
  },
  {
   "cell_type": "code",
   "execution_count": 54,
   "id": "4f33bf50",
   "metadata": {},
   "outputs": [
    {
     "data": {
      "text/plain": [
       "284.0282270584361"
      ]
     },
     "execution_count": 54,
     "metadata": {},
     "output_type": "execute_result"
    }
   ],
   "source": [
    "rmse = sqrt(mse)\n",
    "rmse"
   ]
  },
  {
   "cell_type": "markdown",
   "id": "43f9f7d6",
   "metadata": {},
   "source": [
    "The best one yet. But only by a small margin"
   ]
  },
  {
   "cell_type": "code",
   "execution_count": 55,
   "id": "aab2b885",
   "metadata": {},
   "outputs": [
    {
     "data": {
      "text/html": [
       "<div>\n",
       "<style scoped>\n",
       "    .dataframe tbody tr th:only-of-type {\n",
       "        vertical-align: middle;\n",
       "    }\n",
       "\n",
       "    .dataframe tbody tr th {\n",
       "        vertical-align: top;\n",
       "    }\n",
       "\n",
       "    .dataframe thead th {\n",
       "        text-align: right;\n",
       "    }\n",
       "</style>\n",
       "<table border=\"1\" class=\"dataframe\">\n",
       "  <thead>\n",
       "    <tr style=\"text-align: right;\">\n",
       "      <th></th>\n",
       "      <th>Linear Regression</th>\n",
       "      <th>Decision Tree</th>\n",
       "      <th>Random Forest</th>\n",
       "      <th>Gradient Boosting</th>\n",
       "      <th>Xgboost</th>\n",
       "      <th>Lightgbm</th>\n",
       "    </tr>\n",
       "  </thead>\n",
       "  <tbody>\n",
       "    <tr>\n",
       "      <th>0</th>\n",
       "      <td>290.450197</td>\n",
       "      <td>302.033537</td>\n",
       "      <td>288.68616</td>\n",
       "      <td>287.299983</td>\n",
       "      <td>298.542028</td>\n",
       "      <td>284.028227</td>\n",
       "    </tr>\n",
       "  </tbody>\n",
       "</table>\n",
       "</div>"
      ],
      "text/plain": [
       "   Linear Regression  Decision Tree  Random Forest  Gradient Boosting  \\\n",
       "0         290.450197     302.033537      288.68616         287.299983   \n",
       "\n",
       "      Xgboost    Lightgbm  \n",
       "0  298.542028  284.028227  "
      ]
     },
     "execution_count": 55,
     "metadata": {},
     "output_type": "execute_result"
    }
   ],
   "source": [
    "# Adding to the Dataframe for scores\n",
    "df_score[\"Lightgbm\"] = [rmse]\n",
    "df_score"
   ]
  },
  {
   "cell_type": "markdown",
   "id": "7531f7d0",
   "metadata": {},
   "source": [
    "---------------"
   ]
  },
  {
   "cell_type": "markdown",
   "id": "b23f23b6",
   "metadata": {},
   "source": [
    "### Looking at the scores across the board"
   ]
  },
  {
   "cell_type": "code",
   "execution_count": 56,
   "id": "ec44551f",
   "metadata": {},
   "outputs": [
    {
     "data": {
      "text/html": [
       "<div>\n",
       "<style scoped>\n",
       "    .dataframe tbody tr th:only-of-type {\n",
       "        vertical-align: middle;\n",
       "    }\n",
       "\n",
       "    .dataframe tbody tr th {\n",
       "        vertical-align: top;\n",
       "    }\n",
       "\n",
       "    .dataframe thead th {\n",
       "        text-align: right;\n",
       "    }\n",
       "</style>\n",
       "<table border=\"1\" class=\"dataframe\">\n",
       "  <thead>\n",
       "    <tr style=\"text-align: right;\">\n",
       "      <th></th>\n",
       "      <th>Linear Regression</th>\n",
       "      <th>Decision Tree</th>\n",
       "      <th>Random Forest</th>\n",
       "      <th>Gradient Boosting</th>\n",
       "      <th>Xgboost</th>\n",
       "      <th>Lightgbm</th>\n",
       "    </tr>\n",
       "  </thead>\n",
       "  <tbody>\n",
       "    <tr>\n",
       "      <th>0</th>\n",
       "      <td>290.450197</td>\n",
       "      <td>302.033537</td>\n",
       "      <td>288.68616</td>\n",
       "      <td>287.299983</td>\n",
       "      <td>298.542028</td>\n",
       "      <td>284.028227</td>\n",
       "    </tr>\n",
       "  </tbody>\n",
       "</table>\n",
       "</div>"
      ],
      "text/plain": [
       "   Linear Regression  Decision Tree  Random Forest  Gradient Boosting  \\\n",
       "0         290.450197     302.033537      288.68616         287.299983   \n",
       "\n",
       "      Xgboost    Lightgbm  \n",
       "0  298.542028  284.028227  "
      ]
     },
     "execution_count": 56,
     "metadata": {},
     "output_type": "execute_result"
    }
   ],
   "source": [
    "df_score"
   ]
  },
  {
   "cell_type": "markdown",
   "id": "51119c92",
   "metadata": {},
   "source": [
    "Now, these are the baselines for all our models.\n",
    "- We did not make any changes or tinker with many parameters.\n",
    "- We have yet to even to a k-fold validation or use other methods to improve our model performance.\n",
    "- We also have to try to figure out, if making those variables categorical was worth it.\n",
    "\n",
    "So i am first going to do the 3rd point and then will try out what is mentioned in first two points."
   ]
  },
  {
   "cell_type": "markdown",
   "id": "a7a67bdb",
   "metadata": {},
   "source": [
    "--------------------"
   ]
  },
  {
   "cell_type": "markdown",
   "id": "6393d6ca",
   "metadata": {},
   "source": [
    "## Experimentation\n",
    "Firstly, i am going to change the categorical variables back to numeric to see, if it helps us "
   ]
  },
  {
   "cell_type": "code",
   "execution_count": 57,
   "id": "ab42fb3e",
   "metadata": {},
   "outputs": [],
   "source": [
    "df = pd.read_csv('train_cleaned_combined_airbnb.csv')\n",
    "df.drop(['Unnamed: 0'],axis=1,inplace=True)\n",
    "\n",
    "df['room_type'] = pd.Categorical(df.room_type)\n",
    "df['host_location_country'] = pd.Categorical(df.host_location_country)\n",
    "df['property_type_kind'] = pd.Categorical(df.property_type_kind)\n",
    "df['type_of_bath'] = pd.Categorical(df.type_of_bath)\n",
    "\n",
    "df = pd.get_dummies(df)\n",
    "\n",
    "X = df.drop(['price'],axis=1)\n",
    "y = df['price']\n",
    "\n",
    "X_train, X_test, y_train, y_test = train_test_split(X, y, test_size=0.25, random_state=42)"
   ]
  },
  {
   "cell_type": "markdown",
   "id": "1317977a",
   "metadata": {},
   "source": [
    "-----------------"
   ]
  },
  {
   "cell_type": "markdown",
   "id": "e73c8ca5",
   "metadata": {},
   "source": [
    "Linear Regression"
   ]
  },
  {
   "cell_type": "code",
   "execution_count": 58,
   "id": "8819d2b4",
   "metadata": {},
   "outputs": [
    {
     "data": {
      "text/plain": [
       "288.7789615145597"
      ]
     },
     "execution_count": 58,
     "metadata": {},
     "output_type": "execute_result"
    }
   ],
   "source": [
    "reg = LinearRegression()\n",
    "model = reg.fit(X_train, y_train)\n",
    "model.score(X_train, y_train)\n",
    "predicted = model.predict(X_test)\n",
    "\n",
    "# Calculating the RMSE\n",
    "mse = mean_squared_error(y_test, predicted)\n",
    "mse\n",
    "\n",
    "rmse = sqrt(mse)\n",
    "rmse"
   ]
  },
  {
   "cell_type": "code",
   "execution_count": 59,
   "id": "d6ed0fda",
   "metadata": {},
   "outputs": [
    {
     "data": {
      "text/html": [
       "<div>\n",
       "<style scoped>\n",
       "    .dataframe tbody tr th:only-of-type {\n",
       "        vertical-align: middle;\n",
       "    }\n",
       "\n",
       "    .dataframe tbody tr th {\n",
       "        vertical-align: top;\n",
       "    }\n",
       "\n",
       "    .dataframe thead th {\n",
       "        text-align: right;\n",
       "    }\n",
       "</style>\n",
       "<table border=\"1\" class=\"dataframe\">\n",
       "  <thead>\n",
       "    <tr style=\"text-align: right;\">\n",
       "      <th></th>\n",
       "      <th>Linear Regression</th>\n",
       "      <th>Decision Tree</th>\n",
       "      <th>Random Forest</th>\n",
       "      <th>Gradient Boosting</th>\n",
       "      <th>Xgboost</th>\n",
       "      <th>Lightgbm</th>\n",
       "    </tr>\n",
       "  </thead>\n",
       "  <tbody>\n",
       "    <tr>\n",
       "      <th>0</th>\n",
       "      <td>290.450197</td>\n",
       "      <td>302.033537</td>\n",
       "      <td>288.68616</td>\n",
       "      <td>287.299983</td>\n",
       "      <td>298.542028</td>\n",
       "      <td>284.028227</td>\n",
       "    </tr>\n",
       "    <tr>\n",
       "      <th>1</th>\n",
       "      <td>288.778962</td>\n",
       "      <td>0.000000</td>\n",
       "      <td>0.00000</td>\n",
       "      <td>0.000000</td>\n",
       "      <td>0.000000</td>\n",
       "      <td>0.000000</td>\n",
       "    </tr>\n",
       "  </tbody>\n",
       "</table>\n",
       "</div>"
      ],
      "text/plain": [
       "   Linear Regression  Decision Tree  Random Forest  Gradient Boosting  \\\n",
       "0         290.450197     302.033537      288.68616         287.299983   \n",
       "1         288.778962       0.000000        0.00000           0.000000   \n",
       "\n",
       "      Xgboost    Lightgbm  \n",
       "0  298.542028  284.028227  \n",
       "1    0.000000    0.000000  "
      ]
     },
     "execution_count": 59,
     "metadata": {},
     "output_type": "execute_result"
    }
   ],
   "source": [
    "# Appending to our score df\n",
    "df_score.loc[1] = [0,0,0,0,0,0]\n",
    "df_score.iloc[1,0] = rmse\n",
    "df_score"
   ]
  },
  {
   "cell_type": "markdown",
   "id": "35ca0af8",
   "metadata": {},
   "source": [
    "-------------------"
   ]
  },
  {
   "cell_type": "markdown",
   "id": "ed4c11ec",
   "metadata": {},
   "source": [
    "Decision Tree Regressor"
   ]
  },
  {
   "cell_type": "code",
   "execution_count": 60,
   "id": "1140c28a",
   "metadata": {},
   "outputs": [
    {
     "data": {
      "text/plain": [
       "298.492472398269"
      ]
     },
     "execution_count": 60,
     "metadata": {},
     "output_type": "execute_result"
    }
   ],
   "source": [
    "regressor = DecisionTreeRegressor(random_state=0)\n",
    "model = regressor.fit(X_train, y_train)\n",
    "\n",
    "# Getting the predictions\n",
    "predicted = model.predict(X_test)\n",
    "\n",
    "# Calculating the RMSE\n",
    "mse = mean_squared_error(y_test, predicted)\n",
    "mse\n",
    "\n",
    "rmse = sqrt(mse)\n",
    "rmse"
   ]
  },
  {
   "cell_type": "code",
   "execution_count": 61,
   "id": "3668e361",
   "metadata": {},
   "outputs": [
    {
     "data": {
      "text/html": [
       "<div>\n",
       "<style scoped>\n",
       "    .dataframe tbody tr th:only-of-type {\n",
       "        vertical-align: middle;\n",
       "    }\n",
       "\n",
       "    .dataframe tbody tr th {\n",
       "        vertical-align: top;\n",
       "    }\n",
       "\n",
       "    .dataframe thead th {\n",
       "        text-align: right;\n",
       "    }\n",
       "</style>\n",
       "<table border=\"1\" class=\"dataframe\">\n",
       "  <thead>\n",
       "    <tr style=\"text-align: right;\">\n",
       "      <th></th>\n",
       "      <th>Linear Regression</th>\n",
       "      <th>Decision Tree</th>\n",
       "      <th>Random Forest</th>\n",
       "      <th>Gradient Boosting</th>\n",
       "      <th>Xgboost</th>\n",
       "      <th>Lightgbm</th>\n",
       "    </tr>\n",
       "  </thead>\n",
       "  <tbody>\n",
       "    <tr>\n",
       "      <th>0</th>\n",
       "      <td>290.450197</td>\n",
       "      <td>302.033537</td>\n",
       "      <td>288.68616</td>\n",
       "      <td>287.299983</td>\n",
       "      <td>298.542028</td>\n",
       "      <td>284.028227</td>\n",
       "    </tr>\n",
       "    <tr>\n",
       "      <th>1</th>\n",
       "      <td>288.778962</td>\n",
       "      <td>298.492472</td>\n",
       "      <td>0.00000</td>\n",
       "      <td>0.000000</td>\n",
       "      <td>0.000000</td>\n",
       "      <td>0.000000</td>\n",
       "    </tr>\n",
       "  </tbody>\n",
       "</table>\n",
       "</div>"
      ],
      "text/plain": [
       "   Linear Regression  Decision Tree  Random Forest  Gradient Boosting  \\\n",
       "0         290.450197     302.033537      288.68616         287.299983   \n",
       "1         288.778962     298.492472        0.00000           0.000000   \n",
       "\n",
       "      Xgboost    Lightgbm  \n",
       "0  298.542028  284.028227  \n",
       "1    0.000000    0.000000  "
      ]
     },
     "execution_count": 61,
     "metadata": {},
     "output_type": "execute_result"
    }
   ],
   "source": [
    "# Updating the score sheet\n",
    "df_score.iloc[1,1] = rmse\n",
    "df_score"
   ]
  },
  {
   "cell_type": "markdown",
   "id": "5629f6e4",
   "metadata": {},
   "source": [
    "----------------"
   ]
  },
  {
   "cell_type": "markdown",
   "id": "d689e6c2",
   "metadata": {},
   "source": [
    "Random Forest Regressor"
   ]
  },
  {
   "cell_type": "code",
   "execution_count": 62,
   "id": "d3f6676e",
   "metadata": {},
   "outputs": [
    {
     "data": {
      "text/plain": [
       "287.13522162447987"
      ]
     },
     "execution_count": 62,
     "metadata": {},
     "output_type": "execute_result"
    }
   ],
   "source": [
    "regr = RandomForestRegressor(max_depth=2, random_state=0)\n",
    "model = regr.fit(X_train, y_train)\n",
    "\n",
    "# Getting the predictions\n",
    "predicted = model.predict(X_test)\n",
    "\n",
    "# Calculating the RMSE\n",
    "\n",
    "mse = mean_squared_error(y_test, predicted)\n",
    "mse\n",
    "\n",
    "rmse = sqrt(mse)\n",
    "rmse"
   ]
  },
  {
   "cell_type": "code",
   "execution_count": 63,
   "id": "f9aa773f",
   "metadata": {},
   "outputs": [
    {
     "data": {
      "text/html": [
       "<div>\n",
       "<style scoped>\n",
       "    .dataframe tbody tr th:only-of-type {\n",
       "        vertical-align: middle;\n",
       "    }\n",
       "\n",
       "    .dataframe tbody tr th {\n",
       "        vertical-align: top;\n",
       "    }\n",
       "\n",
       "    .dataframe thead th {\n",
       "        text-align: right;\n",
       "    }\n",
       "</style>\n",
       "<table border=\"1\" class=\"dataframe\">\n",
       "  <thead>\n",
       "    <tr style=\"text-align: right;\">\n",
       "      <th></th>\n",
       "      <th>Linear Regression</th>\n",
       "      <th>Decision Tree</th>\n",
       "      <th>Random Forest</th>\n",
       "      <th>Gradient Boosting</th>\n",
       "      <th>Xgboost</th>\n",
       "      <th>Lightgbm</th>\n",
       "    </tr>\n",
       "  </thead>\n",
       "  <tbody>\n",
       "    <tr>\n",
       "      <th>0</th>\n",
       "      <td>290.450197</td>\n",
       "      <td>302.033537</td>\n",
       "      <td>288.686160</td>\n",
       "      <td>287.299983</td>\n",
       "      <td>298.542028</td>\n",
       "      <td>284.028227</td>\n",
       "    </tr>\n",
       "    <tr>\n",
       "      <th>1</th>\n",
       "      <td>288.778962</td>\n",
       "      <td>298.492472</td>\n",
       "      <td>287.135222</td>\n",
       "      <td>0.000000</td>\n",
       "      <td>0.000000</td>\n",
       "      <td>0.000000</td>\n",
       "    </tr>\n",
       "  </tbody>\n",
       "</table>\n",
       "</div>"
      ],
      "text/plain": [
       "   Linear Regression  Decision Tree  Random Forest  Gradient Boosting  \\\n",
       "0         290.450197     302.033537     288.686160         287.299983   \n",
       "1         288.778962     298.492472     287.135222           0.000000   \n",
       "\n",
       "      Xgboost    Lightgbm  \n",
       "0  298.542028  284.028227  \n",
       "1    0.000000    0.000000  "
      ]
     },
     "execution_count": 63,
     "metadata": {},
     "output_type": "execute_result"
    }
   ],
   "source": [
    "# Updating the score sheet\n",
    "df_score.iloc[1,2] = rmse\n",
    "df_score"
   ]
  },
  {
   "cell_type": "markdown",
   "id": "29b750e2",
   "metadata": {},
   "source": [
    "--------------"
   ]
  },
  {
   "cell_type": "markdown",
   "id": "ad25198b",
   "metadata": {},
   "source": [
    "Gradient Boosting Regressor"
   ]
  },
  {
   "cell_type": "code",
   "execution_count": 64,
   "id": "ba52daa8",
   "metadata": {},
   "outputs": [
    {
     "data": {
      "text/plain": [
       "286.85732827188315"
      ]
     },
     "execution_count": 64,
     "metadata": {},
     "output_type": "execute_result"
    }
   ],
   "source": [
    "reg = GradientBoostingRegressor(random_state=0)\n",
    "model = reg.fit(X_train, y_train)\n",
    "\n",
    "# Getting the predictions\n",
    "predicted = model.predict(X_test)\n",
    "\n",
    "# Calculating the RMSE\n",
    "\n",
    "mse = mean_squared_error(y_test, predicted)\n",
    "mse\n",
    "\n",
    "rmse = sqrt(mse)\n",
    "rmse"
   ]
  },
  {
   "cell_type": "code",
   "execution_count": 65,
   "id": "7f6a85bb",
   "metadata": {},
   "outputs": [
    {
     "data": {
      "text/html": [
       "<div>\n",
       "<style scoped>\n",
       "    .dataframe tbody tr th:only-of-type {\n",
       "        vertical-align: middle;\n",
       "    }\n",
       "\n",
       "    .dataframe tbody tr th {\n",
       "        vertical-align: top;\n",
       "    }\n",
       "\n",
       "    .dataframe thead th {\n",
       "        text-align: right;\n",
       "    }\n",
       "</style>\n",
       "<table border=\"1\" class=\"dataframe\">\n",
       "  <thead>\n",
       "    <tr style=\"text-align: right;\">\n",
       "      <th></th>\n",
       "      <th>Linear Regression</th>\n",
       "      <th>Decision Tree</th>\n",
       "      <th>Random Forest</th>\n",
       "      <th>Gradient Boosting</th>\n",
       "      <th>Xgboost</th>\n",
       "      <th>Lightgbm</th>\n",
       "    </tr>\n",
       "  </thead>\n",
       "  <tbody>\n",
       "    <tr>\n",
       "      <th>0</th>\n",
       "      <td>290.450197</td>\n",
       "      <td>302.033537</td>\n",
       "      <td>288.686160</td>\n",
       "      <td>287.299983</td>\n",
       "      <td>298.542028</td>\n",
       "      <td>284.028227</td>\n",
       "    </tr>\n",
       "    <tr>\n",
       "      <th>1</th>\n",
       "      <td>288.778962</td>\n",
       "      <td>298.492472</td>\n",
       "      <td>287.135222</td>\n",
       "      <td>286.857328</td>\n",
       "      <td>0.000000</td>\n",
       "      <td>0.000000</td>\n",
       "    </tr>\n",
       "  </tbody>\n",
       "</table>\n",
       "</div>"
      ],
      "text/plain": [
       "   Linear Regression  Decision Tree  Random Forest  Gradient Boosting  \\\n",
       "0         290.450197     302.033537     288.686160         287.299983   \n",
       "1         288.778962     298.492472     287.135222         286.857328   \n",
       "\n",
       "      Xgboost    Lightgbm  \n",
       "0  298.542028  284.028227  \n",
       "1    0.000000    0.000000  "
      ]
     },
     "execution_count": 65,
     "metadata": {},
     "output_type": "execute_result"
    }
   ],
   "source": [
    "# Updating the score sheet\n",
    "df_score.iloc[1,3] = rmse\n",
    "df_score"
   ]
  },
  {
   "cell_type": "markdown",
   "id": "881c5497",
   "metadata": {},
   "source": [
    "--------------"
   ]
  },
  {
   "cell_type": "markdown",
   "id": "faf40a37",
   "metadata": {},
   "source": [
    "xgboost"
   ]
  },
  {
   "cell_type": "code",
   "execution_count": 66,
   "id": "c3b07115",
   "metadata": {},
   "outputs": [
    {
     "name": "stdout",
     "output_type": "stream",
     "text": [
      "[11:27:32] WARNING: ../src/objective/regression_obj.cu:188: reg:linear is now deprecated in favor of reg:squarederror.\n"
     ]
    },
    {
     "data": {
      "text/plain": [
       "298.7329908342675"
      ]
     },
     "execution_count": 66,
     "metadata": {},
     "output_type": "execute_result"
    }
   ],
   "source": [
    "xg_reg = xgb.XGBRegressor(objective ='reg:linear', colsample_bytree = 0.3, learning_rate = 0.1,\n",
    "                max_depth = 5, alpha = 10, n_estimators = 10)\n",
    "\n",
    "xg_reg.fit(X_train,y_train)\n",
    "\n",
    "# Getting the predictions\n",
    "\n",
    "predicted = xg_reg.predict(X_test)\n",
    "\n",
    "# Calculating the RMSE\n",
    "mse = mean_squared_error(y_test, predicted)\n",
    "mse\n",
    "\n",
    "rmse = sqrt(mse)\n",
    "rmse"
   ]
  },
  {
   "cell_type": "code",
   "execution_count": 67,
   "id": "eed5da2f",
   "metadata": {},
   "outputs": [
    {
     "data": {
      "text/html": [
       "<div>\n",
       "<style scoped>\n",
       "    .dataframe tbody tr th:only-of-type {\n",
       "        vertical-align: middle;\n",
       "    }\n",
       "\n",
       "    .dataframe tbody tr th {\n",
       "        vertical-align: top;\n",
       "    }\n",
       "\n",
       "    .dataframe thead th {\n",
       "        text-align: right;\n",
       "    }\n",
       "</style>\n",
       "<table border=\"1\" class=\"dataframe\">\n",
       "  <thead>\n",
       "    <tr style=\"text-align: right;\">\n",
       "      <th></th>\n",
       "      <th>Linear Regression</th>\n",
       "      <th>Decision Tree</th>\n",
       "      <th>Random Forest</th>\n",
       "      <th>Gradient Boosting</th>\n",
       "      <th>Xgboost</th>\n",
       "      <th>Lightgbm</th>\n",
       "    </tr>\n",
       "  </thead>\n",
       "  <tbody>\n",
       "    <tr>\n",
       "      <th>0</th>\n",
       "      <td>290.450197</td>\n",
       "      <td>302.033537</td>\n",
       "      <td>288.686160</td>\n",
       "      <td>287.299983</td>\n",
       "      <td>298.542028</td>\n",
       "      <td>284.028227</td>\n",
       "    </tr>\n",
       "    <tr>\n",
       "      <th>1</th>\n",
       "      <td>288.778962</td>\n",
       "      <td>298.492472</td>\n",
       "      <td>287.135222</td>\n",
       "      <td>286.857328</td>\n",
       "      <td>298.732991</td>\n",
       "      <td>0.000000</td>\n",
       "    </tr>\n",
       "  </tbody>\n",
       "</table>\n",
       "</div>"
      ],
      "text/plain": [
       "   Linear Regression  Decision Tree  Random Forest  Gradient Boosting  \\\n",
       "0         290.450197     302.033537     288.686160         287.299983   \n",
       "1         288.778962     298.492472     287.135222         286.857328   \n",
       "\n",
       "      Xgboost    Lightgbm  \n",
       "0  298.542028  284.028227  \n",
       "1  298.732991    0.000000  "
      ]
     },
     "execution_count": 67,
     "metadata": {},
     "output_type": "execute_result"
    }
   ],
   "source": [
    "# Updating the score sheet\n",
    "df_score.iloc[1,4] = rmse\n",
    "df_score"
   ]
  },
  {
   "cell_type": "markdown",
   "id": "6e902119",
   "metadata": {},
   "source": [
    "--------------"
   ]
  },
  {
   "cell_type": "markdown",
   "id": "a3d34d12",
   "metadata": {},
   "source": [
    "Lightgbm"
   ]
  },
  {
   "cell_type": "code",
   "execution_count": 68,
   "id": "03f242d0",
   "metadata": {},
   "outputs": [
    {
     "data": {
      "text/plain": [
       "283.73864497206677"
      ]
     },
     "execution_count": 68,
     "metadata": {},
     "output_type": "execute_result"
    }
   ],
   "source": [
    "model = LGBMRegressor()\n",
    "model.fit(X_train,y_train)\n",
    "\n",
    "# Getting the predictions\n",
    "predicted = model.predict(X_test)\n",
    "\n",
    "# Calculating the RMSE\n",
    "mse = mean_squared_error(y_test, predicted)\n",
    "mse\n",
    "\n",
    "rmse = sqrt(mse)\n",
    "rmse"
   ]
  },
  {
   "cell_type": "code",
   "execution_count": 69,
   "id": "cd1f0eb8",
   "metadata": {},
   "outputs": [
    {
     "data": {
      "text/html": [
       "<div>\n",
       "<style scoped>\n",
       "    .dataframe tbody tr th:only-of-type {\n",
       "        vertical-align: middle;\n",
       "    }\n",
       "\n",
       "    .dataframe tbody tr th {\n",
       "        vertical-align: top;\n",
       "    }\n",
       "\n",
       "    .dataframe thead th {\n",
       "        text-align: right;\n",
       "    }\n",
       "</style>\n",
       "<table border=\"1\" class=\"dataframe\">\n",
       "  <thead>\n",
       "    <tr style=\"text-align: right;\">\n",
       "      <th></th>\n",
       "      <th>Linear Regression</th>\n",
       "      <th>Decision Tree</th>\n",
       "      <th>Random Forest</th>\n",
       "      <th>Gradient Boosting</th>\n",
       "      <th>Xgboost</th>\n",
       "      <th>Lightgbm</th>\n",
       "    </tr>\n",
       "  </thead>\n",
       "  <tbody>\n",
       "    <tr>\n",
       "      <th>0</th>\n",
       "      <td>290.450197</td>\n",
       "      <td>302.033537</td>\n",
       "      <td>288.686160</td>\n",
       "      <td>287.299983</td>\n",
       "      <td>298.542028</td>\n",
       "      <td>284.028227</td>\n",
       "    </tr>\n",
       "    <tr>\n",
       "      <th>1</th>\n",
       "      <td>288.778962</td>\n",
       "      <td>298.492472</td>\n",
       "      <td>287.135222</td>\n",
       "      <td>286.857328</td>\n",
       "      <td>298.732991</td>\n",
       "      <td>283.738645</td>\n",
       "    </tr>\n",
       "  </tbody>\n",
       "</table>\n",
       "</div>"
      ],
      "text/plain": [
       "   Linear Regression  Decision Tree  Random Forest  Gradient Boosting  \\\n",
       "0         290.450197     302.033537     288.686160         287.299983   \n",
       "1         288.778962     298.492472     287.135222         286.857328   \n",
       "\n",
       "      Xgboost    Lightgbm  \n",
       "0  298.542028  284.028227  \n",
       "1  298.732991  283.738645  "
      ]
     },
     "execution_count": 69,
     "metadata": {},
     "output_type": "execute_result"
    }
   ],
   "source": [
    "# Updating the score sheet\n",
    "df_score.iloc[1,5] = rmse\n",
    "df_score"
   ]
  },
  {
   "cell_type": "markdown",
   "id": "ae028ebd",
   "metadata": {},
   "source": [
    "### Results\n",
    "We are seeing improvements across the board. \n",
    "- We should keep these variables as numeric only\n",
    "- That's the thing, if you would have never experimented, you would have never known.\n",
    "- So experiment and see if you can make this even better. "
   ]
  },
  {
   "cell_type": "code",
   "execution_count": 70,
   "id": "9cefda6a",
   "metadata": {},
   "outputs": [
    {
     "data": {
      "text/plain": [
       "<AxesSubplot:>"
      ]
     },
     "execution_count": 70,
     "metadata": {},
     "output_type": "execute_result"
    },
    {
     "data": {
      "image/png": "[encoded data removed]",
      "text/plain": [
       "<Figure size 432x288 with 1 Axes>"
      ]
     },
     "metadata": {
      "needs_background": "light"
     },
     "output_type": "display_data"
    }
   ],
   "source": [
    "df_score.plot()"
   ]
  },
  {
   "cell_type": "code",
   "execution_count": null,
   "id": "6585c09a",
   "metadata": {},
   "outputs": [],
   "source": []
  },
  {
   "cell_type": "code",
   "execution_count": null,
   "id": "4338d46f",
   "metadata": {},
   "outputs": [],
   "source": []
  },
  {
   "cell_type": "code",
   "execution_count": null,
   "id": "2f7f9546",
   "metadata": {},
   "outputs": [],
   "source": []
  },
  {
   "cell_type": "code",
   "execution_count": null,
   "id": "9ec4262f",
   "metadata": {},
   "outputs": [],
   "source": []
  },
  {
   "cell_type": "code",
   "execution_count": null,
   "id": "4e68bcb3",
   "metadata": {},
   "outputs": [],
   "source": []
  },
  {
   "cell_type": "code",
   "execution_count": null,
   "id": "751566f1",
   "metadata": {},
   "outputs": [],
   "source": []
  },
  {
   "cell_type": "code",
   "execution_count": null,
   "id": "c2394b41",
   "metadata": {},
   "outputs": [],
   "source": []
  },
  {
   "cell_type": "code",
   "execution_count": null,
   "id": "08f78359",
   "metadata": {},
   "outputs": [],
   "source": []
  },
  {
   "cell_type": "code",
   "execution_count": null,
   "id": "7861c35b",
   "metadata": {},
   "outputs": [],
   "source": []
  },
  {
   "cell_type": "code",
   "execution_count": null,
   "id": "18e372ba",
   "metadata": {},
   "outputs": [],
   "source": []
  },
  {
   "cell_type": "code",
   "execution_count": null,
   "id": "5225dc60",
   "metadata": {},
   "outputs": [],
   "source": []
  },
  {
   "cell_type": "code",
   "execution_count": null,
   "id": "6cc7216b",
   "metadata": {},
   "outputs": [],
   "source": []
  },
  {
   "cell_type": "code",
   "execution_count": null,
   "id": "86e474b2",
   "metadata": {},
   "outputs": [],
   "source": []
  },
  {
   "cell_type": "code",
   "execution_count": null,
   "id": "50d18d2f",
   "metadata": {},
   "outputs": [],
   "source": []
  },
  {
   "cell_type": "code",
   "execution_count": null,
   "id": "5342bcef",
   "metadata": {},
   "outputs": [],
   "source": []
  },
  {
   "cell_type": "code",
   "execution_count": null,
   "id": "80f52817",
   "metadata": {},
   "outputs": [],
   "source": []
  },
  {
   "cell_type": "code",
   "execution_count": null,
   "id": "77f911ac",
   "metadata": {},
   "outputs": [],
   "source": []
  },
  {
   "cell_type": "code",
   "execution_count": null,
   "id": "9acc586d",
   "metadata": {},
   "outputs": [],
   "source": []
  },
  {
   "cell_type": "code",
   "execution_count": null,
   "id": "af90d531",
   "metadata": {},
   "outputs": [],
   "source": []
  },
  {
   "cell_type": "code",
   "execution_count": null,
   "id": "014f85be",
   "metadata": {},
   "outputs": [],
   "source": []
  },
  {
   "cell_type": "code",
   "execution_count": null,
   "id": "5cee1325",
   "metadata": {},
   "outputs": [],
   "source": []
  }
 ],
 "metadata": {
  "kernelspec": {
   "display_name": "Python 3 (ipykernel)",
   "language": "python",
   "name": "python3"
  },
  "language_info": {
   "codemirror_mode": {
    "name": "ipython",
    "version": 3
   },
   "file_extension": ".py",
   "mimetype": "text/x-python",
   "name": "python",
   "nbconvert_exporter": "python",
   "pygments_lexer": "ipython3",
   "version": "3.9.7"
  }
 },
 "nbformat": 4,
 "nbformat_minor": 5
}
