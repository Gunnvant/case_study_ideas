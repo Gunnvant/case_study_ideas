{
 "cells": [
  {
   "cell_type": "markdown",
   "metadata": {},
   "source": [
    "## Finding useful data in the wild perspectives from data journalism \n",
    "\n",
    "[This](https://www.reddit.com/r/dataisbeautiful/comments/t9a764/oc_equipment_losses_in_the_ukrainerussian_war/) reddit post is an interesting read. This is a submission to `r/dataisbeautiful`, a reddit sub that I am subscribed to. It tries to compare the military losses on both sides of the Russian-Ukrainian conflict. A cursory look at the charts presented here, gives one, the impression that numbers are the absolute truth! Dig a little deep and when you see the source cited [here](https://www.oryxspioenkop.com/2022/02/attack-on-europe-documenting-equipment.html?m=1), does one realise that:\n",
    "1. Data is extremely dirty in the wild.\n",
    "2. The biases and inaccuracies don't become apparent until one digs into the source.\n",
    "\n",
    "\n",
    "### Getting the relevant information from data\n",
    "\n",
    "Look at the exhibit below and you will see that the relevant data is not in a form you can do any analysis on\n",
    "\n",
    "![](osint_main.png)\n",
    "\n",
    "How does one even start putting this data into a reasonable structure?\n",
    "\n",
    "One reasonable schema is the following\n",
    "\n",
    "| Vehicle Type | Vehicle Category | Country | Damaged | Captured | Abandoned | Destroyed |\n",
    "| :----------- | :--------------- | :------ | :------ | :------- | :-------- | :-------- |\n",
    "| T72          | Armour           | Russia  | 10      | 8        | 4         | 13        |\n",
    "| ..           | ..               | ..      | ..      | ..       | ..        | ..        |\n",
    "| ..           | ..               | ..      | ..      | ..       | ..        | ..          |\n",
    "\n",
    "But how does one go about creating such a schema? For starters one can scrape this data and put it in a tabular form\n"
   ]
  },
  {
   "cell_type": "markdown",
   "metadata": {},
   "source": []
  },
  {
   "cell_type": "code",
   "execution_count": 1,
   "metadata": {},
   "outputs": [],
   "source": [
    "import requests \n",
    "from bs4 import BeautifulSoup\n",
    "url = 'https://www.oryxspioenkop.com/2022/02/attack-on-europe-documenting-equipment.html?m=1'"
   ]
  },
  {
   "cell_type": "code",
   "execution_count": 2,
   "metadata": {},
   "outputs": [
    {
     "data": {
      "text/plain": [
       "'<!DOCTYPE html>\\n<html class=\\'v2\\' dir=\\'ltr\\' xmlns=\\'http://www.w3.org/1999/xhtml\\' xmlns:b=\\'http://www.google.com/2005/gml/b\\' xmlns:data=\\'http://www.google.com/2005/gml/data\\' xmlns:expr=\\'http://www.google.com/2005/gml/expr\\' xmlns:og=\\'http://ogp.me/ns#\\'>\\n<head>\\n<link href=\\'https://www.blogger.com/static/v1/widgets/1529571102-css_bundle_v2.css\\' rel=\\'stylesheet\\' type=\\'text/css\\'/>\\n<meta content=\\'width=device-width, initial-scale=1, maximum-scale=1\\' name=\\'viewport\\'/>\\n<link href=\"//fonts.googleapis.com/css?family=Muli:700,700i,800%7CLora:400,400i,700,700i%7CPlayfair+Display:400,400i,700\" media=\"all\" rel=\"stylesheet\" type=\"text/css\">\\n<link href=\\'//maxcdn.bootstrapcdn.com/font-awesome/4.5.0/css/font-awesome.min.css\\' rel=\\'stylesheet\\'/>\\n<meta content=\\'text/html; charset=UTF-8\\' http-equiv=\\'Content-Type\\'/>\\n<meta content=\\'blogger\\' name=\\'generator\\'/>\\n<link href=\\'https://www.oryxspioenkop.com/favicon.ico\\' rel=\\'icon\\' type=\\'image/x-icon\\'/>\\n<link href=\\'https://www.oryxspioenkop.com/2022/02/attack-on-europe'"
      ]
     },
     "execution_count": 2,
     "metadata": {},
     "output_type": "execute_result"
    }
   ],
   "source": [
    "raw_html = requests.get(url).text\n",
    "raw_html[0:1000]"
   ]
  },
  {
   "cell_type": "code",
   "execution_count": 3,
   "metadata": {},
   "outputs": [],
   "source": [
    "soup = BeautifulSoup(raw_html,'html.parser')"
   ]
  },
  {
   "cell_type": "code",
   "execution_count": 8,
   "metadata": {},
   "outputs": [],
   "source": [
    "main_categories = soup.find('div',attrs={'itemprop':'articleBody'}).find_all(\"h3\")"
   ]
  },
  {
   "cell_type": "code",
   "execution_count": 13,
   "metadata": {},
   "outputs": [],
   "source": [
    "cleaned_cats = []\n",
    "for cat in main_categories:\n",
    "    if cat.text.strip()!='':\n",
    "        cleaned_cats.append(cat.text.strip())\n"
   ]
  },
  {
   "cell_type": "code",
   "execution_count": 23,
   "metadata": {},
   "outputs": [
    {
     "data": {
      "text/plain": [
       "['Tanks (156',\n",
       " ' of which destroyed: 53',\n",
       " ' damaged: 2',\n",
       " ' abandoned: 30',\n",
       " ' captured: 71)']"
      ]
     },
     "execution_count": 23,
     "metadata": {},
     "output_type": "execute_result"
    }
   ],
   "source": [
    "cleaned_cats[1].split(\",\")"
   ]
  },
  {
   "cell_type": "code",
   "execution_count": 17,
   "metadata": {},
   "outputs": [
    {
     "data": {
      "text/plain": [
       "'Russia - 967, of which: destroyed: 386, damaged: 13, abandoned: 157, captured: 411'"
      ]
     },
     "execution_count": 17,
     "metadata": {},
     "output_type": "execute_result"
    }
   ],
   "source": [
    "cleaned_cats[0]"
   ]
  },
  {
   "cell_type": "code",
   "execution_count": 24,
   "metadata": {},
   "outputs": [],
   "source": [
    "import re\n",
    "pattern_key = re.compile(r'[a-zA-Z]+')\n",
    "pattern_value = re.compile(r'\\d+')"
   ]
  },
  {
   "cell_type": "code",
   "execution_count": null,
   "metadata": {},
   "outputs": [],
   "source": [
    "cnt_dict = []\n",
    "for cat in cleaned_cats:\n",
    "    cat = cat.replace(\"of which\",\"\")\n",
    "    parts = cat.split(\",\")\n",
    "    parts = [p.strip() for p in parts]\n",
    "    keys = []\n",
    "    values = []\n",
    "    details = details\n",
    "    for idx, p in enumerate(parts):\n",
    "        key = re.findall(pattern_key,p)\n",
    "        key = \" \".join(key)\n",
    "        value = re.findall(pattern_value,p)[0]\n",
    "        keys.append(key)\n",
    "        values.append(value)\n",
    "        if idx!=0:\n",
    "            details[key]=value\n",
    "    cnt_dict.append({keys[0]:values[0],'details':details})\n",
    "        \n",
    "        \n",
    "\n"
   ]
  }
 ],
 "metadata": {
  "interpreter": {
   "hash": "e7daf05c69c155aebd2e559915f14874f994643a3478331c2f87e5ba1291b428"
  },
  "kernelspec": {
   "display_name": "Python 3.9.10 ('base')",
   "language": "python",
   "name": "python3"
  },
  "language_info": {
   "codemirror_mode": {
    "name": "ipython",
    "version": 3
   },
   "file_extension": ".py",
   "mimetype": "text/x-python",
   "name": "python",
   "nbconvert_exporter": "python",
   "pygments_lexer": "ipython3",
   "version": "3.9.10"
  },
  "orig_nbformat": 4
 },
 "nbformat": 4,
 "nbformat_minor": 2
}
