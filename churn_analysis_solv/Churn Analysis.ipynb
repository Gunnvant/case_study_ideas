{
 "cells": [
  {
   "cell_type": "markdown",
   "id": "8ac2df2d",
   "metadata": {},
   "source": [
    "# Machine Learning Project - Churn Modeling\n",
    "\n",
    "## Business Objective\n",
    "Customer churn is a concerning problem for large companies (especially in the Telecom field) due to its direct effect on the revenues. Companies often seek to know which customers are likely to churn in the recent future so that a timely action could be taken to prevent it\n",
    "\n",
    "## Data\n",
    "\n",
    "Dataset is place [here](../data/customer_churn/Dataset.csv) \n",
    "\n",
    "## Problem Statement\n",
    "\n",
    "You have been assigned the task to build for this Telecom company a Logistic Regression Machine Learning model that predicts which of their customers are likely to churn (stop using their service in future). For more details on the intermediate and final outputs expected, refer to the list of deliverables mentioned in the “Model Building” and “Model Validation” sections below.\n",
    "\n",
    "## Data Description\n",
    "The dataset provided for this activity consists of 11 features where 10 are independent features and 1 is a target variable. Features in this dataset are described as below :\n",
    "\n",
    "- Churn : 1 if customer cancelled service, 0 if not (Target)\n",
    "- AccountWeeks : number of weeks customer has had active account\n",
    "- ContractRenewal : 1 if customer recently renewed contract, 0 if not\n",
    "- DataPlan : 1 if customer has data plan, 0 if not\n",
    "- DataUsage : gigabytes of monthly data usage\n",
    "- CustServCalls : number of calls into customer service\n",
    "- DayMins : average daytime minutes per month\n",
    "- DayCalls : average number of daytime calls\n",
    "- MonthlyCharge : average monthly bill\n",
    "- OverageFee : largest overage fee in last 12 months\n",
    "- RoamMins : average number of roaming minutes\n",
    "\n",
    "## Model Building:\n",
    "\n",
    "- Show Bi-variate plots (scatter/ bar) of all meaningful variables with the dependent variable\n",
    "\n",
    "- Present your final model results (show what’s applicable from the below list):\n",
    "    - List of variables which came significant\n",
    "    - Beta coefficients for the respective variables along with, p-values\n",
    "    - In case of a Decision Tree model, show Rules or the Decision Tree\n",
    "\n",
    "- Summarize the steps followed to finalize your model - consisting of the below steps (as applicable)\n",
    "    - Sampling\n",
    "    - Feature Engineering\n",
    "    - Performance comparison between Train and Test\n",
    "    - Use of Cross validation\n",
    "\n",
    "- While developing the model, you would have gotten a few candidate models which were not as good as the final model (in terms of performance, multicollinearity, or statistical stability etc.). Show a few of these candidate models and explain their shortcomings\n",
    "\n",
    "- Show what kind of feature engineering did you apply in your project and why (include in your results what’s applicable from below)\n",
    "    - Dummy Variables\n",
    "    - Label Encoding\n",
    "    - Any bin-based variable created -what was the significance/rationale of binning\n",
    "    - Any new derived variables created using the raw variables – For e.g., Ratio based, difference based, % difference based / Rate of change, etc.\n",
    "\n",
    "- If the provided dataset is unbalanced, what steps did you take to balance? Also explain the technique used to oversample/undersample the dataset? (Assume an event rate of less than 5% indicative of class imbalance, you can still use oversample/undersample to improve model performance even if the event rate is between 5-10%)\n",
    "\n",
    "- Demonstrate Live how your model will assign class/ or compute the probability for a new data point?\n",
    "\n",
    "- Provide your understanding of the next steps that the client/ end user needs to follow to deploy your model at their end. Think on the below lines:\n",
    "    - Any technical/infrastructure requirements that the client needs to meet?\n",
    "    - What files do you need to provide them?\n",
    "    - What kind of data cleaning and preprocessing would the client need to do before using the model?\n",
    "    - How will the client use your model on new data?\n",
    "    - How will the client know that the model is performing well on new data points?\n",
    "\n",
    "- Show your model’s performance on the below metrics (both train and test samples)\n",
    "    - Confusion Matrix\n",
    "    - Classification Report\n",
    "    - Rank ordering test results (Rank ordering is an important measure of model performance and its ability to separate out the event from the non-events). You can divide your probability predictions into deciles and look at the event rate in each decile.\n",
    "\n",
    "- For the given business problem which of the below metric(s) did you choose and why? Include in your final output any additional activity performed (and its results) to get to the best values of the below metrics (F1-Score, AUC-ROC curve, AUC-ROC Accuracy).\n",
    "Accuracy\n",
    "    - Accuracy\n",
    "    - Precision\n",
    "    - Recall\n",
    "\n",
    "\n",
    "\n",
    "\n",
    "\n",
    "\n",
    "\n"
   ]
  },
  {
   "cell_type": "markdown",
   "id": "0f954ed7",
   "metadata": {},
   "source": [
    "# Reading the data "
   ]
  },
  {
   "cell_type": "code",
   "execution_count": 538,
   "id": "35ba8d64",
   "metadata": {},
   "outputs": [],
   "source": [
    "import pandas as pd"
   ]
  },
  {
   "cell_type": "code",
   "execution_count": 539,
   "id": "cef0dd53",
   "metadata": {},
   "outputs": [],
   "source": [
    "df = pd.read_csv('../data/customer_churn/Dataset.csv')"
   ]
  },
  {
   "cell_type": "code",
   "execution_count": 540,
   "id": "49a382bb",
   "metadata": {},
   "outputs": [
    {
     "data": {
      "text/html": [
       "<div>\n",
       "<style scoped>\n",
       "    .dataframe tbody tr th:only-of-type {\n",
       "        vertical-align: middle;\n",
       "    }\n",
       "\n",
       "    .dataframe tbody tr th {\n",
       "        vertical-align: top;\n",
       "    }\n",
       "\n",
       "    .dataframe thead th {\n",
       "        text-align: right;\n",
       "    }\n",
       "</style>\n",
       "<table border=\"1\" class=\"dataframe\">\n",
       "  <thead>\n",
       "    <tr style=\"text-align: right;\">\n",
       "      <th></th>\n",
       "      <th>Churn</th>\n",
       "      <th>AccountWeeks</th>\n",
       "      <th>ContractRenewal</th>\n",
       "      <th>DataPlan</th>\n",
       "      <th>DataUsage</th>\n",
       "      <th>CustServCalls</th>\n",
       "      <th>DayMins</th>\n",
       "      <th>DayCalls</th>\n",
       "      <th>MonthlyCharge</th>\n",
       "      <th>OverageFee</th>\n",
       "      <th>RoamMins</th>\n",
       "    </tr>\n",
       "  </thead>\n",
       "  <tbody>\n",
       "    <tr>\n",
       "      <th>0</th>\n",
       "      <td>0</td>\n",
       "      <td>128</td>\n",
       "      <td>1</td>\n",
       "      <td>1</td>\n",
       "      <td>2.7</td>\n",
       "      <td>1</td>\n",
       "      <td>265.1</td>\n",
       "      <td>110</td>\n",
       "      <td>89.0</td>\n",
       "      <td>9.87</td>\n",
       "      <td>10.0</td>\n",
       "    </tr>\n",
       "    <tr>\n",
       "      <th>1</th>\n",
       "      <td>0</td>\n",
       "      <td>107</td>\n",
       "      <td>1</td>\n",
       "      <td>1</td>\n",
       "      <td>3.7</td>\n",
       "      <td>1</td>\n",
       "      <td>161.6</td>\n",
       "      <td>123</td>\n",
       "      <td>82.0</td>\n",
       "      <td>9.78</td>\n",
       "      <td>13.7</td>\n",
       "    </tr>\n",
       "    <tr>\n",
       "      <th>2</th>\n",
       "      <td>0</td>\n",
       "      <td>137</td>\n",
       "      <td>1</td>\n",
       "      <td>0</td>\n",
       "      <td>0.0</td>\n",
       "      <td>0</td>\n",
       "      <td>243.4</td>\n",
       "      <td>114</td>\n",
       "      <td>52.0</td>\n",
       "      <td>6.06</td>\n",
       "      <td>12.2</td>\n",
       "    </tr>\n",
       "    <tr>\n",
       "      <th>3</th>\n",
       "      <td>0</td>\n",
       "      <td>84</td>\n",
       "      <td>0</td>\n",
       "      <td>0</td>\n",
       "      <td>0.0</td>\n",
       "      <td>2</td>\n",
       "      <td>299.4</td>\n",
       "      <td>71</td>\n",
       "      <td>57.0</td>\n",
       "      <td>3.10</td>\n",
       "      <td>6.6</td>\n",
       "    </tr>\n",
       "    <tr>\n",
       "      <th>4</th>\n",
       "      <td>0</td>\n",
       "      <td>75</td>\n",
       "      <td>0</td>\n",
       "      <td>0</td>\n",
       "      <td>0.0</td>\n",
       "      <td>3</td>\n",
       "      <td>166.7</td>\n",
       "      <td>113</td>\n",
       "      <td>41.0</td>\n",
       "      <td>7.42</td>\n",
       "      <td>10.1</td>\n",
       "    </tr>\n",
       "  </tbody>\n",
       "</table>\n",
       "</div>"
      ],
      "text/plain": [
       "   Churn  AccountWeeks  ContractRenewal  DataPlan  DataUsage  CustServCalls  \\\n",
       "0      0           128                1         1        2.7              1   \n",
       "1      0           107                1         1        3.7              1   \n",
       "2      0           137                1         0        0.0              0   \n",
       "3      0            84                0         0        0.0              2   \n",
       "4      0            75                0         0        0.0              3   \n",
       "\n",
       "   DayMins  DayCalls  MonthlyCharge  OverageFee  RoamMins  \n",
       "0    265.1       110           89.0        9.87      10.0  \n",
       "1    161.6       123           82.0        9.78      13.7  \n",
       "2    243.4       114           52.0        6.06      12.2  \n",
       "3    299.4        71           57.0        3.10       6.6  \n",
       "4    166.7       113           41.0        7.42      10.1  "
      ]
     },
     "execution_count": 540,
     "metadata": {},
     "output_type": "execute_result"
    }
   ],
   "source": [
    "df.head()"
   ]
  },
  {
   "cell_type": "code",
   "execution_count": 541,
   "id": "c2e66d3c",
   "metadata": {},
   "outputs": [
    {
     "data": {
      "text/plain": [
       "(3333, 11)"
      ]
     },
     "execution_count": 541,
     "metadata": {},
     "output_type": "execute_result"
    }
   ],
   "source": [
    "df.shape"
   ]
  },
  {
   "cell_type": "markdown",
   "id": "44a7f8c1",
   "metadata": {},
   "source": [
    "# EDA"
   ]
  },
  {
   "cell_type": "markdown",
   "id": "618cbcb1",
   "metadata": {},
   "source": [
    "Looking at data types"
   ]
  },
  {
   "cell_type": "code",
   "execution_count": 542,
   "id": "52f5e338",
   "metadata": {},
   "outputs": [
    {
     "name": "stdout",
     "output_type": "stream",
     "text": [
      "<class 'pandas.core.frame.DataFrame'>\n",
      "RangeIndex: 3333 entries, 0 to 3332\n",
      "Data columns (total 11 columns):\n",
      " #   Column           Non-Null Count  Dtype  \n",
      "---  ------           --------------  -----  \n",
      " 0   Churn            3333 non-null   int64  \n",
      " 1   AccountWeeks     3333 non-null   int64  \n",
      " 2   ContractRenewal  3333 non-null   int64  \n",
      " 3   DataPlan         3333 non-null   int64  \n",
      " 4   DataUsage        3333 non-null   float64\n",
      " 5   CustServCalls    3333 non-null   int64  \n",
      " 6   DayMins          3333 non-null   float64\n",
      " 7   DayCalls         3333 non-null   int64  \n",
      " 8   MonthlyCharge    3333 non-null   float64\n",
      " 9   OverageFee       3333 non-null   float64\n",
      " 10  RoamMins         3333 non-null   float64\n",
      "dtypes: float64(5), int64(6)\n",
      "memory usage: 286.6 KB\n"
     ]
    }
   ],
   "source": [
    "df.info()"
   ]
  },
  {
   "cell_type": "markdown",
   "id": "e719af9d",
   "metadata": {},
   "source": [
    "Fixing the variables which are categorical in nature."
   ]
  },
  {
   "cell_type": "code",
   "execution_count": 543,
   "id": "057980d9",
   "metadata": {},
   "outputs": [],
   "source": [
    "df['Churn'] = pd.Categorical(df['Churn'])\n",
    "df['ContractRenewal'] = pd.Categorical(df['ContractRenewal'])\n",
    "df['DataPlan'] = pd.Categorical(df['DataPlan'])\n",
    "df['CustServCalls'] = pd.Categorical(df['CustServCalls'])"
   ]
  },
  {
   "cell_type": "code",
   "execution_count": 544,
   "id": "407e1a82",
   "metadata": {},
   "outputs": [
    {
     "name": "stdout",
     "output_type": "stream",
     "text": [
      "<class 'pandas.core.frame.DataFrame'>\n",
      "RangeIndex: 3333 entries, 0 to 3332\n",
      "Data columns (total 11 columns):\n",
      " #   Column           Non-Null Count  Dtype   \n",
      "---  ------           --------------  -----   \n",
      " 0   Churn            3333 non-null   category\n",
      " 1   AccountWeeks     3333 non-null   int64   \n",
      " 2   ContractRenewal  3333 non-null   category\n",
      " 3   DataPlan         3333 non-null   category\n",
      " 4   DataUsage        3333 non-null   float64 \n",
      " 5   CustServCalls    3333 non-null   category\n",
      " 6   DayMins          3333 non-null   float64 \n",
      " 7   DayCalls         3333 non-null   int64   \n",
      " 8   MonthlyCharge    3333 non-null   float64 \n",
      " 9   OverageFee       3333 non-null   float64 \n",
      " 10  RoamMins         3333 non-null   float64 \n",
      "dtypes: category(4), float64(5), int64(2)\n",
      "memory usage: 196.2 KB\n"
     ]
    }
   ],
   "source": [
    "df.info()"
   ]
  },
  {
   "cell_type": "code",
   "execution_count": 545,
   "id": "32efe1d4",
   "metadata": {},
   "outputs": [
    {
     "data": {
      "text/plain": [
       "0    2850\n",
       "1     483\n",
       "Name: Churn, dtype: int64"
      ]
     },
     "execution_count": 545,
     "metadata": {},
     "output_type": "execute_result"
    }
   ],
   "source": [
    "df['Churn'].value_counts()"
   ]
  },
  {
   "cell_type": "code",
   "execution_count": 546,
   "id": "2c49eeb6",
   "metadata": {},
   "outputs": [
    {
     "data": {
      "text/plain": [
       "<AxesSubplot:>"
      ]
     },
     "execution_count": 546,
     "metadata": {},
     "output_type": "execute_result"
    },
    {
     "data": {
      "image/png": "[encoded data removed]",
      "text/plain": [
       "<Figure size 432x288 with 1 Axes>"
      ]
     },
     "metadata": {
      "needs_background": "light"
     },
     "output_type": "display_data"
    }
   ],
   "source": [
    "df['Churn'].value_counts().plot(kind='bar')"
   ]
  },
  {
   "cell_type": "markdown",
   "id": "f37ce710",
   "metadata": {},
   "source": [
    "Measuring in percentages"
   ]
  },
  {
   "cell_type": "code",
   "execution_count": 547,
   "id": "9a921ba7",
   "metadata": {},
   "outputs": [
    {
     "data": {
      "text/plain": [
       "0    0.855086\n",
       "1    0.144914\n",
       "Name: Churn, dtype: float64"
      ]
     },
     "execution_count": 547,
     "metadata": {},
     "output_type": "execute_result"
    }
   ],
   "source": [
    "df['Churn'].value_counts(normalize=True)"
   ]
  },
  {
   "cell_type": "code",
   "execution_count": 548,
   "id": "20807f68",
   "metadata": {},
   "outputs": [
    {
     "data": {
      "text/plain": [
       "<AxesSubplot:ylabel='Churn'>"
      ]
     },
     "execution_count": 548,
     "metadata": {},
     "output_type": "execute_result"
    },
    {
     "data": {
      "image/png": "[encoded data removed]",
      "text/plain": [
       "<Figure size 432x288 with 1 Axes>"
      ]
     },
     "metadata": {},
     "output_type": "display_data"
    }
   ],
   "source": [
    "df['Churn'].value_counts(normalize=True).plot(kind='pie')"
   ]
  },
  {
   "cell_type": "markdown",
   "id": "c904c61c",
   "metadata": {},
   "source": [
    "So about 14.5% of our users churned."
   ]
  },
  {
   "cell_type": "markdown",
   "id": "bf51caa4",
   "metadata": {},
   "source": [
    "Now, let's look at our continuous variables and see if we can find any large differences in behaviour of people who churned, when compared to people who did not."
   ]
  },
  {
   "cell_type": "code",
   "execution_count": 549,
   "id": "7d855acf",
   "metadata": {},
   "outputs": [
    {
     "data": {
      "text/html": [
       "<div>\n",
       "<style scoped>\n",
       "    .dataframe tbody tr th:only-of-type {\n",
       "        vertical-align: middle;\n",
       "    }\n",
       "\n",
       "    .dataframe tbody tr th {\n",
       "        vertical-align: top;\n",
       "    }\n",
       "\n",
       "    .dataframe thead th {\n",
       "        text-align: right;\n",
       "    }\n",
       "</style>\n",
       "<table border=\"1\" class=\"dataframe\">\n",
       "  <thead>\n",
       "    <tr style=\"text-align: right;\">\n",
       "      <th></th>\n",
       "      <th>AccountWeeks</th>\n",
       "      <th>DataUsage</th>\n",
       "      <th>DayMins</th>\n",
       "      <th>DayCalls</th>\n",
       "      <th>MonthlyCharge</th>\n",
       "      <th>OverageFee</th>\n",
       "      <th>RoamMins</th>\n",
       "    </tr>\n",
       "    <tr>\n",
       "      <th>Churn</th>\n",
       "      <th></th>\n",
       "      <th></th>\n",
       "      <th></th>\n",
       "      <th></th>\n",
       "      <th></th>\n",
       "      <th></th>\n",
       "      <th></th>\n",
       "    </tr>\n",
       "  </thead>\n",
       "  <tbody>\n",
       "    <tr>\n",
       "      <th>0</th>\n",
       "      <td>100.793684</td>\n",
       "      <td>0.862151</td>\n",
       "      <td>175.175754</td>\n",
       "      <td>100.283158</td>\n",
       "      <td>55.816246</td>\n",
       "      <td>9.954618</td>\n",
       "      <td>10.158877</td>\n",
       "    </tr>\n",
       "    <tr>\n",
       "      <th>1</th>\n",
       "      <td>102.664596</td>\n",
       "      <td>0.546957</td>\n",
       "      <td>206.914079</td>\n",
       "      <td>101.335404</td>\n",
       "      <td>59.190062</td>\n",
       "      <td>10.623085</td>\n",
       "      <td>10.700000</td>\n",
       "    </tr>\n",
       "  </tbody>\n",
       "</table>\n",
       "</div>"
      ],
      "text/plain": [
       "       AccountWeeks  DataUsage     DayMins    DayCalls  MonthlyCharge  \\\n",
       "Churn                                                                   \n",
       "0        100.793684   0.862151  175.175754  100.283158      55.816246   \n",
       "1        102.664596   0.546957  206.914079  101.335404      59.190062   \n",
       "\n",
       "       OverageFee   RoamMins  \n",
       "Churn                         \n",
       "0        9.954618  10.158877  \n",
       "1       10.623085  10.700000  "
      ]
     },
     "execution_count": 549,
     "metadata": {},
     "output_type": "execute_result"
    }
   ],
   "source": [
    "df.groupby('Churn').mean()"
   ]
  },
  {
   "cell_type": "code",
   "execution_count": 550,
   "id": "84b5967c",
   "metadata": {},
   "outputs": [
    {
     "data": {
      "text/plain": [
       "<AxesSubplot:title={'center':'RoamMins'}, xlabel='Churn'>"
      ]
     },
     "execution_count": 550,
     "metadata": {},
     "output_type": "execute_result"
    },
    {
     "data": {
      "image/png": "[encoded data removed]",
      "text/plain": [
       "<Figure size 1008x720 with 6 Axes>"
      ]
     },
     "metadata": {
      "needs_background": "light"
     },
     "output_type": "display_data"
    }
   ],
   "source": [
    "import matplotlib.pyplot as plt\n",
    "fig, axes = plt.subplots(2, 3, figsize=(14, 10))\n",
    " \n",
    "fig.suptitle('Average Variable value differences between customers who Churned and who didn\\'t.')\n",
    "\n",
    "df.groupby('Churn').mean()['AccountWeeks'].plot(kind='bar',ax=axes[0, 0],title='AccountWeeks')\n",
    "df.groupby('Churn').mean()['DayMins'].plot(kind='bar',ax=axes[0, 1],title='DayMins')\n",
    "df.groupby('Churn').mean()['DayCalls'].plot(kind='bar',ax=axes[0, 2],title='DayCalls')\n",
    "\n",
    "\n",
    "df.groupby('Churn').mean()['MonthlyCharge'].plot(kind='bar',ax=axes[1, 0],title='MonthlyCharge')\n",
    "df.groupby('Churn').mean()['OverageFee'].plot(kind='bar',ax=axes[1, 1],title='OverageFee')\n",
    "df.groupby('Churn').mean()['RoamMins'].plot(kind='bar',ax=axes[1, 2],title='RoamMins')"
   ]
  },
  {
   "cell_type": "markdown",
   "id": "b256c999",
   "metadata": {},
   "source": [
    "Let's talk about our findings\n",
    "- Account weeks did not really provide much insight other than the fact that it barely changed between churned and non-churned customers.\n",
    "- Daysmins tells us something interesting, The customers who churned are actually using more mins on the network rather than less.\n",
    "- DayCalls is the same accross the board. No differences here.\n",
    "- MonthlyCharge is more for the customers who churned, this is BAD !!. This means that our high paying customers are leaving which is worse for us.\n",
    "- OverageFee is more for the customers who churned, This shows that the customers leaving us were charges more, this could be one of the potential reasons for the customers churning. \n",
    "- RoamMins is again, more for the customers who churned, this along with other variables makes it very clear that the customers who are churning were more active users of the network. "
   ]
  },
  {
   "cell_type": "markdown",
   "id": "7c532df8",
   "metadata": {},
   "source": [
    "Let's also look at the data and it's distribution rather than just the mean of the continuous variable, this should give us a better understanding of the variable."
   ]
  },
  {
   "cell_type": "code",
   "execution_count": 551,
   "id": "74337f10",
   "metadata": {},
   "outputs": [
    {
     "data": {
      "text/plain": [
       "<matplotlib.legend.Legend at 0x7f8346b6aeb0>"
      ]
     },
     "execution_count": 551,
     "metadata": {},
     "output_type": "execute_result"
    },
    {
     "data": {
      "image/png": "[encoded data removed]",
      "text/plain": [
       "<Figure size 1296x1008 with 6 Axes>"
      ]
     },
     "metadata": {
      "needs_background": "light"
     },
     "output_type": "display_data"
    }
   ],
   "source": [
    "import seaborn as sns\n",
    "fig, axes = plt.subplots(3, 2, figsize=(18, 14))\n",
    " \n",
    "fig.suptitle('Probability Denstity function for continuous variables')\n",
    "\n",
    "\n",
    "sns.kdeplot(df[df['Churn'] == 0]['AccountWeeks'],ax=axes[0, 0],label='Non-Churned')\n",
    "sns.kdeplot(df[df['Churn'] == 1]['AccountWeeks'],ax=axes[0, 0],label='Churned')\n",
    "\n",
    "sns.kdeplot(df[df['Churn'] == 0]['DayMins'],ax=axes[0, 1],label='Non-Churned')\n",
    "sns.kdeplot(df[df['Churn'] == 1]['DayMins'],ax=axes[0, 1],label='Churned')\n",
    "\n",
    "sns.kdeplot(df[df['Churn'] == 0]['DayCalls'],ax=axes[1, 0],label='Non-Churned')\n",
    "sns.kdeplot(df[df['Churn'] == 1]['DayCalls'],ax=axes[1, 0],label='Churned')\n",
    "\n",
    "sns.kdeplot(df[df['Churn'] == 0]['MonthlyCharge'],ax=axes[1,1],label='Non-Churned')\n",
    "sns.kdeplot(df[df['Churn'] == 1]['MonthlyCharge'],ax=axes[1, 1],label='Churned')\n",
    "\n",
    "sns.kdeplot(df[df['Churn'] == 0]['OverageFee'],ax=axes[2, 0],label='Non-Churned')\n",
    "sns.kdeplot(df[df['Churn'] == 1]['OverageFee'],ax=axes[2, 0],label='Churned')\n",
    "\n",
    "sns.kdeplot(df[df['Churn'] == 0]['RoamMins'],ax=axes[2, 1],label='Non-Churned')\n",
    "sns.kdeplot(df[df['Churn'] == 1]['RoamMins'],ax=axes[2, 1],label='Churned')\n",
    "\n",
    "fig.legend(labels=['Non-Churned','Churned'])"
   ]
  },
  {
   "cell_type": "markdown",
   "id": "8c352811",
   "metadata": {},
   "source": [
    "Let's talk about our findings :- \n",
    "- The AccountWeeks is mostly similar and does not seem affected by the churn.\n",
    "- DaysMins seems to be normally distributed for the non-churned customers but for the customers who churned it is negative-scewed and it seems that those customers were using our network more.\n",
    "- DayCalls also seems to be mostly normally distributed with the churned customers having more calls.\n",
    "- The MonthlyCharge chart is quite peculiar as it has 2 sperate tops, which indicate that the customers who churned were our high paying customers, this is diring news for us.\n",
    "- OverageFee also seems to be almost normally skewed with the churned customers being more scewed to the right. \n",
    "- Roam Mins overall similar with churned customers being a little bit higher and on the right side."
   ]
  },
  {
   "cell_type": "markdown",
   "id": "25534bba",
   "metadata": {},
   "source": [
    "### Let's look at our categorical variables"
   ]
  },
  {
   "cell_type": "code",
   "execution_count": 552,
   "id": "d10376ab",
   "metadata": {},
   "outputs": [
    {
     "data": {
      "text/plain": [
       "<AxesSubplot:title={'center':'Churn'}, xlabel='CustServCalls'>"
      ]
     },
     "execution_count": 552,
     "metadata": {},
     "output_type": "execute_result"
    },
    {
     "data": {
      "image/png": "[encoded data removed]",
      "text/plain": [
       "<Figure size 1008x720 with 4 Axes>"
      ]
     },
     "metadata": {
      "needs_background": "light"
     },
     "output_type": "display_data"
    }
   ],
   "source": [
    "import matplotlib.pyplot as plt\n",
    "fig, axes = plt.subplots(2, 2, figsize=(14, 10))\n",
    " \n",
    "fig.suptitle('Count values of categorical variables to see the differences between customers who Churned and who didn\\'t.')\n",
    "\n",
    "#######################################################################################################################\n",
    "df_count_series = df[['Churn','ContractRenewal']].value_counts()\n",
    "df_temp = pd.DataFrame(df_count_series)\n",
    "df_temp = df_temp.reset_index()\n",
    "df_temp.pivot(index='ContractRenewal', columns='Churn', values=0).plot(kind='bar',ax=axes[0, 0],title='Churn')\n",
    "#######################################################################################################################\n",
    "\n",
    "#######################################################################################################################\n",
    "df_count_series = df[['Churn','DataPlan']].value_counts()\n",
    "df_temp = pd.DataFrame(df_count_series)\n",
    "df_temp = df_temp.reset_index()\n",
    "df_temp.pivot(index='DataPlan', columns='Churn', values=0).plot(kind='bar',ax=axes[0, 1],title='Churn')\n",
    "#######################################################################################################################\n",
    "\n",
    "\n",
    "#######################################################################################################################\n",
    "df_count_series = df[['Churn','CustServCalls']].value_counts()\n",
    "df_temp = pd.DataFrame(df_count_series)\n",
    "df_temp = df_temp.reset_index()\n",
    "df_temp.pivot(index='CustServCalls', columns='Churn', values=0).plot(kind='bar',ax=axes[1, 0],title='Churn')\n",
    "#######################################################################################################################"
   ]
  },
  {
   "cell_type": "markdown",
   "id": "9bc9c75b",
   "metadata": {},
   "source": [
    "## Calculating the same, but in percentages"
   ]
  },
  {
   "cell_type": "code",
   "execution_count": 553,
   "id": "f0aa8502",
   "metadata": {},
   "outputs": [
    {
     "data": {
      "text/plain": [
       "<AxesSubplot:title={'center':'Churn'}, xlabel='CustServCalls'>"
      ]
     },
     "execution_count": 553,
     "metadata": {},
     "output_type": "execute_result"
    },
    {
     "data": {
      "image/png": "[encoded data removed]",
      "text/plain": [
       "<Figure size 1008x720 with 4 Axes>"
      ]
     },
     "metadata": {
      "needs_background": "light"
     },
     "output_type": "display_data"
    }
   ],
   "source": [
    "import matplotlib.pyplot as plt\n",
    "fig, axes = plt.subplots(2, 2, figsize=(14, 10))\n",
    " \n",
    "fig.suptitle('Percentage values of categorical variables to see the differences between customers who Churned and who didn\\'t.')\n",
    "\n",
    "#######################################################################################################################\n",
    "df_count_series = df[['Churn','ContractRenewal']].value_counts(normalize=True)\n",
    "df_temp = pd.DataFrame(df_count_series)\n",
    "df_temp = df_temp.reset_index()\n",
    "df_temp.pivot(index='ContractRenewal', columns='Churn', values=0).plot(kind='bar',ax=axes[0, 0],title='Churn')\n",
    "#######################################################################################################################\n",
    "\n",
    "#######################################################################################################################\n",
    "df_count_series = df[['Churn','DataPlan']].value_counts(normalize=True)\n",
    "df_temp = pd.DataFrame(df_count_series)\n",
    "df_temp = df_temp.reset_index()\n",
    "df_temp.pivot(index='DataPlan', columns='Churn', values=0).plot(kind='bar',ax=axes[0, 1],title='Churn')\n",
    "#######################################################################################################################\n",
    "\n",
    "\n",
    "#######################################################################################################################\n",
    "df_count_series = df[['Churn','CustServCalls']].value_counts(normalize=True)\n",
    "df_temp = pd.DataFrame(df_count_series)\n",
    "df_temp = df_temp.reset_index()\n",
    "df_temp.pivot(index='CustServCalls', columns='Churn', values=0).plot(kind='bar',ax=axes[1, 0],title='Churn')\n",
    "#######################################################################################################################"
   ]
  },
  {
   "cell_type": "markdown",
   "id": "e36d60e7",
   "metadata": {},
   "source": [
    "Let's talk about our findings:- \n",
    "- The gap between people who renewed their contract recently is big for the customers who churned vs customers who did not.\n",
    "- DataPlan shows us that customers who churned mostly(percentage-wise) did not have a dataplan, contrast this with the customers who did not churn, more of them did have a dataplan when compared to those who did not.\n",
    "- Looking at CustServCalls, we can see that the customers who churned did not reach out to the customer service much, This is not good as this means we are losing our cutomers even without the customers calling us to tell us what the problem is. "
   ]
  },
  {
   "cell_type": "markdown",
   "id": "2020bba3",
   "metadata": {},
   "source": [
    "# Basic Data Preparation"
   ]
  },
  {
   "cell_type": "code",
   "execution_count": 554,
   "id": "c5d84e06",
   "metadata": {
    "scrolled": true
   },
   "outputs": [
    {
     "data": {
      "text/html": [
       "<div>\n",
       "<style scoped>\n",
       "    .dataframe tbody tr th:only-of-type {\n",
       "        vertical-align: middle;\n",
       "    }\n",
       "\n",
       "    .dataframe tbody tr th {\n",
       "        vertical-align: top;\n",
       "    }\n",
       "\n",
       "    .dataframe thead th {\n",
       "        text-align: right;\n",
       "    }\n",
       "</style>\n",
       "<table border=\"1\" class=\"dataframe\">\n",
       "  <thead>\n",
       "    <tr style=\"text-align: right;\">\n",
       "      <th></th>\n",
       "      <th>Churn</th>\n",
       "      <th>AccountWeeks</th>\n",
       "      <th>ContractRenewal</th>\n",
       "      <th>DataPlan</th>\n",
       "      <th>DataUsage</th>\n",
       "      <th>CustServCalls</th>\n",
       "      <th>DayMins</th>\n",
       "      <th>DayCalls</th>\n",
       "      <th>MonthlyCharge</th>\n",
       "      <th>OverageFee</th>\n",
       "      <th>RoamMins</th>\n",
       "    </tr>\n",
       "  </thead>\n",
       "  <tbody>\n",
       "    <tr>\n",
       "      <th>0</th>\n",
       "      <td>0</td>\n",
       "      <td>128</td>\n",
       "      <td>1</td>\n",
       "      <td>1</td>\n",
       "      <td>2.7</td>\n",
       "      <td>1</td>\n",
       "      <td>265.1</td>\n",
       "      <td>110</td>\n",
       "      <td>89.0</td>\n",
       "      <td>9.87</td>\n",
       "      <td>10.0</td>\n",
       "    </tr>\n",
       "    <tr>\n",
       "      <th>1</th>\n",
       "      <td>0</td>\n",
       "      <td>107</td>\n",
       "      <td>1</td>\n",
       "      <td>1</td>\n",
       "      <td>3.7</td>\n",
       "      <td>1</td>\n",
       "      <td>161.6</td>\n",
       "      <td>123</td>\n",
       "      <td>82.0</td>\n",
       "      <td>9.78</td>\n",
       "      <td>13.7</td>\n",
       "    </tr>\n",
       "    <tr>\n",
       "      <th>2</th>\n",
       "      <td>0</td>\n",
       "      <td>137</td>\n",
       "      <td>1</td>\n",
       "      <td>0</td>\n",
       "      <td>0.0</td>\n",
       "      <td>0</td>\n",
       "      <td>243.4</td>\n",
       "      <td>114</td>\n",
       "      <td>52.0</td>\n",
       "      <td>6.06</td>\n",
       "      <td>12.2</td>\n",
       "    </tr>\n",
       "    <tr>\n",
       "      <th>3</th>\n",
       "      <td>0</td>\n",
       "      <td>84</td>\n",
       "      <td>0</td>\n",
       "      <td>0</td>\n",
       "      <td>0.0</td>\n",
       "      <td>2</td>\n",
       "      <td>299.4</td>\n",
       "      <td>71</td>\n",
       "      <td>57.0</td>\n",
       "      <td>3.10</td>\n",
       "      <td>6.6</td>\n",
       "    </tr>\n",
       "    <tr>\n",
       "      <th>4</th>\n",
       "      <td>0</td>\n",
       "      <td>75</td>\n",
       "      <td>0</td>\n",
       "      <td>0</td>\n",
       "      <td>0.0</td>\n",
       "      <td>3</td>\n",
       "      <td>166.7</td>\n",
       "      <td>113</td>\n",
       "      <td>41.0</td>\n",
       "      <td>7.42</td>\n",
       "      <td>10.1</td>\n",
       "    </tr>\n",
       "  </tbody>\n",
       "</table>\n",
       "</div>"
      ],
      "text/plain": [
       "  Churn  AccountWeeks ContractRenewal DataPlan  DataUsage CustServCalls  \\\n",
       "0     0           128               1        1        2.7             1   \n",
       "1     0           107               1        1        3.7             1   \n",
       "2     0           137               1        0        0.0             0   \n",
       "3     0            84               0        0        0.0             2   \n",
       "4     0            75               0        0        0.0             3   \n",
       "\n",
       "   DayMins  DayCalls  MonthlyCharge  OverageFee  RoamMins  \n",
       "0    265.1       110           89.0        9.87      10.0  \n",
       "1    161.6       123           82.0        9.78      13.7  \n",
       "2    243.4       114           52.0        6.06      12.2  \n",
       "3    299.4        71           57.0        3.10       6.6  \n",
       "4    166.7       113           41.0        7.42      10.1  "
      ]
     },
     "execution_count": 554,
     "metadata": {},
     "output_type": "execute_result"
    }
   ],
   "source": [
    "df.head()"
   ]
  },
  {
   "cell_type": "code",
   "execution_count": 555,
   "id": "960f1c33",
   "metadata": {},
   "outputs": [],
   "source": [
    "y = df['Churn']"
   ]
  },
  {
   "cell_type": "markdown",
   "id": "d29d252b",
   "metadata": {},
   "source": [
    "Converting the categorical variables to dummy."
   ]
  },
  {
   "cell_type": "code",
   "execution_count": 556,
   "id": "3fc2847b",
   "metadata": {},
   "outputs": [],
   "source": [
    "df_new = pd.get_dummies(df.drop('Churn',axis=1))"
   ]
  },
  {
   "cell_type": "code",
   "execution_count": 557,
   "id": "485c8d95",
   "metadata": {},
   "outputs": [
    {
     "data": {
      "text/html": [
       "<div>\n",
       "<style scoped>\n",
       "    .dataframe tbody tr th:only-of-type {\n",
       "        vertical-align: middle;\n",
       "    }\n",
       "\n",
       "    .dataframe tbody tr th {\n",
       "        vertical-align: top;\n",
       "    }\n",
       "\n",
       "    .dataframe thead th {\n",
       "        text-align: right;\n",
       "    }\n",
       "</style>\n",
       "<table border=\"1\" class=\"dataframe\">\n",
       "  <thead>\n",
       "    <tr style=\"text-align: right;\">\n",
       "      <th></th>\n",
       "      <th>AccountWeeks</th>\n",
       "      <th>DataUsage</th>\n",
       "      <th>DayMins</th>\n",
       "      <th>DayCalls</th>\n",
       "      <th>MonthlyCharge</th>\n",
       "      <th>OverageFee</th>\n",
       "      <th>RoamMins</th>\n",
       "      <th>ContractRenewal_0</th>\n",
       "      <th>ContractRenewal_1</th>\n",
       "      <th>DataPlan_0</th>\n",
       "      <th>...</th>\n",
       "      <th>CustServCalls_0</th>\n",
       "      <th>CustServCalls_1</th>\n",
       "      <th>CustServCalls_2</th>\n",
       "      <th>CustServCalls_3</th>\n",
       "      <th>CustServCalls_4</th>\n",
       "      <th>CustServCalls_5</th>\n",
       "      <th>CustServCalls_6</th>\n",
       "      <th>CustServCalls_7</th>\n",
       "      <th>CustServCalls_8</th>\n",
       "      <th>CustServCalls_9</th>\n",
       "    </tr>\n",
       "  </thead>\n",
       "  <tbody>\n",
       "    <tr>\n",
       "      <th>0</th>\n",
       "      <td>128</td>\n",
       "      <td>2.70</td>\n",
       "      <td>265.1</td>\n",
       "      <td>110</td>\n",
       "      <td>89.0</td>\n",
       "      <td>9.87</td>\n",
       "      <td>10.0</td>\n",
       "      <td>0</td>\n",
       "      <td>1</td>\n",
       "      <td>0</td>\n",
       "      <td>...</td>\n",
       "      <td>0</td>\n",
       "      <td>1</td>\n",
       "      <td>0</td>\n",
       "      <td>0</td>\n",
       "      <td>0</td>\n",
       "      <td>0</td>\n",
       "      <td>0</td>\n",
       "      <td>0</td>\n",
       "      <td>0</td>\n",
       "      <td>0</td>\n",
       "    </tr>\n",
       "    <tr>\n",
       "      <th>1</th>\n",
       "      <td>107</td>\n",
       "      <td>3.70</td>\n",
       "      <td>161.6</td>\n",
       "      <td>123</td>\n",
       "      <td>82.0</td>\n",
       "      <td>9.78</td>\n",
       "      <td>13.7</td>\n",
       "      <td>0</td>\n",
       "      <td>1</td>\n",
       "      <td>0</td>\n",
       "      <td>...</td>\n",
       "      <td>0</td>\n",
       "      <td>1</td>\n",
       "      <td>0</td>\n",
       "      <td>0</td>\n",
       "      <td>0</td>\n",
       "      <td>0</td>\n",
       "      <td>0</td>\n",
       "      <td>0</td>\n",
       "      <td>0</td>\n",
       "      <td>0</td>\n",
       "    </tr>\n",
       "    <tr>\n",
       "      <th>2</th>\n",
       "      <td>137</td>\n",
       "      <td>0.00</td>\n",
       "      <td>243.4</td>\n",
       "      <td>114</td>\n",
       "      <td>52.0</td>\n",
       "      <td>6.06</td>\n",
       "      <td>12.2</td>\n",
       "      <td>0</td>\n",
       "      <td>1</td>\n",
       "      <td>1</td>\n",
       "      <td>...</td>\n",
       "      <td>1</td>\n",
       "      <td>0</td>\n",
       "      <td>0</td>\n",
       "      <td>0</td>\n",
       "      <td>0</td>\n",
       "      <td>0</td>\n",
       "      <td>0</td>\n",
       "      <td>0</td>\n",
       "      <td>0</td>\n",
       "      <td>0</td>\n",
       "    </tr>\n",
       "    <tr>\n",
       "      <th>3</th>\n",
       "      <td>84</td>\n",
       "      <td>0.00</td>\n",
       "      <td>299.4</td>\n",
       "      <td>71</td>\n",
       "      <td>57.0</td>\n",
       "      <td>3.10</td>\n",
       "      <td>6.6</td>\n",
       "      <td>1</td>\n",
       "      <td>0</td>\n",
       "      <td>1</td>\n",
       "      <td>...</td>\n",
       "      <td>0</td>\n",
       "      <td>0</td>\n",
       "      <td>1</td>\n",
       "      <td>0</td>\n",
       "      <td>0</td>\n",
       "      <td>0</td>\n",
       "      <td>0</td>\n",
       "      <td>0</td>\n",
       "      <td>0</td>\n",
       "      <td>0</td>\n",
       "    </tr>\n",
       "    <tr>\n",
       "      <th>4</th>\n",
       "      <td>75</td>\n",
       "      <td>0.00</td>\n",
       "      <td>166.7</td>\n",
       "      <td>113</td>\n",
       "      <td>41.0</td>\n",
       "      <td>7.42</td>\n",
       "      <td>10.1</td>\n",
       "      <td>1</td>\n",
       "      <td>0</td>\n",
       "      <td>1</td>\n",
       "      <td>...</td>\n",
       "      <td>0</td>\n",
       "      <td>0</td>\n",
       "      <td>0</td>\n",
       "      <td>1</td>\n",
       "      <td>0</td>\n",
       "      <td>0</td>\n",
       "      <td>0</td>\n",
       "      <td>0</td>\n",
       "      <td>0</td>\n",
       "      <td>0</td>\n",
       "    </tr>\n",
       "    <tr>\n",
       "      <th>...</th>\n",
       "      <td>...</td>\n",
       "      <td>...</td>\n",
       "      <td>...</td>\n",
       "      <td>...</td>\n",
       "      <td>...</td>\n",
       "      <td>...</td>\n",
       "      <td>...</td>\n",
       "      <td>...</td>\n",
       "      <td>...</td>\n",
       "      <td>...</td>\n",
       "      <td>...</td>\n",
       "      <td>...</td>\n",
       "      <td>...</td>\n",
       "      <td>...</td>\n",
       "      <td>...</td>\n",
       "      <td>...</td>\n",
       "      <td>...</td>\n",
       "      <td>...</td>\n",
       "      <td>...</td>\n",
       "      <td>...</td>\n",
       "      <td>...</td>\n",
       "    </tr>\n",
       "    <tr>\n",
       "      <th>3328</th>\n",
       "      <td>192</td>\n",
       "      <td>2.67</td>\n",
       "      <td>156.2</td>\n",
       "      <td>77</td>\n",
       "      <td>71.7</td>\n",
       "      <td>10.78</td>\n",
       "      <td>9.9</td>\n",
       "      <td>0</td>\n",
       "      <td>1</td>\n",
       "      <td>0</td>\n",
       "      <td>...</td>\n",
       "      <td>0</td>\n",
       "      <td>0</td>\n",
       "      <td>1</td>\n",
       "      <td>0</td>\n",
       "      <td>0</td>\n",
       "      <td>0</td>\n",
       "      <td>0</td>\n",
       "      <td>0</td>\n",
       "      <td>0</td>\n",
       "      <td>0</td>\n",
       "    </tr>\n",
       "    <tr>\n",
       "      <th>3329</th>\n",
       "      <td>68</td>\n",
       "      <td>0.34</td>\n",
       "      <td>231.1</td>\n",
       "      <td>57</td>\n",
       "      <td>56.4</td>\n",
       "      <td>7.67</td>\n",
       "      <td>9.6</td>\n",
       "      <td>0</td>\n",
       "      <td>1</td>\n",
       "      <td>1</td>\n",
       "      <td>...</td>\n",
       "      <td>0</td>\n",
       "      <td>0</td>\n",
       "      <td>0</td>\n",
       "      <td>1</td>\n",
       "      <td>0</td>\n",
       "      <td>0</td>\n",
       "      <td>0</td>\n",
       "      <td>0</td>\n",
       "      <td>0</td>\n",
       "      <td>0</td>\n",
       "    </tr>\n",
       "    <tr>\n",
       "      <th>3330</th>\n",
       "      <td>28</td>\n",
       "      <td>0.00</td>\n",
       "      <td>180.8</td>\n",
       "      <td>109</td>\n",
       "      <td>56.0</td>\n",
       "      <td>14.44</td>\n",
       "      <td>14.1</td>\n",
       "      <td>0</td>\n",
       "      <td>1</td>\n",
       "      <td>1</td>\n",
       "      <td>...</td>\n",
       "      <td>0</td>\n",
       "      <td>0</td>\n",
       "      <td>1</td>\n",
       "      <td>0</td>\n",
       "      <td>0</td>\n",
       "      <td>0</td>\n",
       "      <td>0</td>\n",
       "      <td>0</td>\n",
       "      <td>0</td>\n",
       "      <td>0</td>\n",
       "    </tr>\n",
       "    <tr>\n",
       "      <th>3331</th>\n",
       "      <td>184</td>\n",
       "      <td>0.00</td>\n",
       "      <td>213.8</td>\n",
       "      <td>105</td>\n",
       "      <td>50.0</td>\n",
       "      <td>7.98</td>\n",
       "      <td>5.0</td>\n",
       "      <td>1</td>\n",
       "      <td>0</td>\n",
       "      <td>1</td>\n",
       "      <td>...</td>\n",
       "      <td>0</td>\n",
       "      <td>0</td>\n",
       "      <td>1</td>\n",
       "      <td>0</td>\n",
       "      <td>0</td>\n",
       "      <td>0</td>\n",
       "      <td>0</td>\n",
       "      <td>0</td>\n",
       "      <td>0</td>\n",
       "      <td>0</td>\n",
       "    </tr>\n",
       "    <tr>\n",
       "      <th>3332</th>\n",
       "      <td>74</td>\n",
       "      <td>3.70</td>\n",
       "      <td>234.4</td>\n",
       "      <td>113</td>\n",
       "      <td>100.0</td>\n",
       "      <td>13.30</td>\n",
       "      <td>13.7</td>\n",
       "      <td>0</td>\n",
       "      <td>1</td>\n",
       "      <td>0</td>\n",
       "      <td>...</td>\n",
       "      <td>1</td>\n",
       "      <td>0</td>\n",
       "      <td>0</td>\n",
       "      <td>0</td>\n",
       "      <td>0</td>\n",
       "      <td>0</td>\n",
       "      <td>0</td>\n",
       "      <td>0</td>\n",
       "      <td>0</td>\n",
       "      <td>0</td>\n",
       "    </tr>\n",
       "  </tbody>\n",
       "</table>\n",
       "<p>3333 rows × 21 columns</p>\n",
       "</div>"
      ],
      "text/plain": [
       "      AccountWeeks  DataUsage  DayMins  DayCalls  MonthlyCharge  OverageFee  \\\n",
       "0              128       2.70    265.1       110           89.0        9.87   \n",
       "1              107       3.70    161.6       123           82.0        9.78   \n",
       "2              137       0.00    243.4       114           52.0        6.06   \n",
       "3               84       0.00    299.4        71           57.0        3.10   \n",
       "4               75       0.00    166.7       113           41.0        7.42   \n",
       "...            ...        ...      ...       ...            ...         ...   \n",
       "3328           192       2.67    156.2        77           71.7       10.78   \n",
       "3329            68       0.34    231.1        57           56.4        7.67   \n",
       "3330            28       0.00    180.8       109           56.0       14.44   \n",
       "3331           184       0.00    213.8       105           50.0        7.98   \n",
       "3332            74       3.70    234.4       113          100.0       13.30   \n",
       "\n",
       "      RoamMins  ContractRenewal_0  ContractRenewal_1  DataPlan_0  ...  \\\n",
       "0         10.0                  0                  1           0  ...   \n",
       "1         13.7                  0                  1           0  ...   \n",
       "2         12.2                  0                  1           1  ...   \n",
       "3          6.6                  1                  0           1  ...   \n",
       "4         10.1                  1                  0           1  ...   \n",
       "...        ...                ...                ...         ...  ...   \n",
       "3328       9.9                  0                  1           0  ...   \n",
       "3329       9.6                  0                  1           1  ...   \n",
       "3330      14.1                  0                  1           1  ...   \n",
       "3331       5.0                  1                  0           1  ...   \n",
       "3332      13.7                  0                  1           0  ...   \n",
       "\n",
       "      CustServCalls_0  CustServCalls_1  CustServCalls_2  CustServCalls_3  \\\n",
       "0                   0                1                0                0   \n",
       "1                   0                1                0                0   \n",
       "2                   1                0                0                0   \n",
       "3                   0                0                1                0   \n",
       "4                   0                0                0                1   \n",
       "...               ...              ...              ...              ...   \n",
       "3328                0                0                1                0   \n",
       "3329                0                0                0                1   \n",
       "3330                0                0                1                0   \n",
       "3331                0                0                1                0   \n",
       "3332                1                0                0                0   \n",
       "\n",
       "      CustServCalls_4  CustServCalls_5  CustServCalls_6  CustServCalls_7  \\\n",
       "0                   0                0                0                0   \n",
       "1                   0                0                0                0   \n",
       "2                   0                0                0                0   \n",
       "3                   0                0                0                0   \n",
       "4                   0                0                0                0   \n",
       "...               ...              ...              ...              ...   \n",
       "3328                0                0                0                0   \n",
       "3329                0                0                0                0   \n",
       "3330                0                0                0                0   \n",
       "3331                0                0                0                0   \n",
       "3332                0                0                0                0   \n",
       "\n",
       "      CustServCalls_8  CustServCalls_9  \n",
       "0                   0                0  \n",
       "1                   0                0  \n",
       "2                   0                0  \n",
       "3                   0                0  \n",
       "4                   0                0  \n",
       "...               ...              ...  \n",
       "3328                0                0  \n",
       "3329                0                0  \n",
       "3330                0                0  \n",
       "3331                0                0  \n",
       "3332                0                0  \n",
       "\n",
       "[3333 rows x 21 columns]"
      ]
     },
     "execution_count": 557,
     "metadata": {},
     "output_type": "execute_result"
    }
   ],
   "source": [
    "df_new"
   ]
  },
  {
   "cell_type": "code",
   "execution_count": 558,
   "id": "801a7fb8",
   "metadata": {},
   "outputs": [],
   "source": [
    "from sklearn.model_selection import train_test_split"
   ]
  },
  {
   "cell_type": "code",
   "execution_count": 559,
   "id": "af678ba7",
   "metadata": {},
   "outputs": [],
   "source": [
    "X = df_new"
   ]
  },
  {
   "cell_type": "code",
   "execution_count": 560,
   "id": "200bee7f",
   "metadata": {},
   "outputs": [],
   "source": [
    "X_train, X_test, y_train, y_test = train_test_split(X, y, test_size=0.25, random_state=42)"
   ]
  },
  {
   "cell_type": "markdown",
   "id": "bcaf4e7b",
   "metadata": {},
   "source": [
    "# Basic Modelling"
   ]
  },
  {
   "cell_type": "code",
   "execution_count": 561,
   "id": "aca41a26",
   "metadata": {},
   "outputs": [
    {
     "data": {
      "text/plain": [
       "LogisticRegression(random_state=0)"
      ]
     },
     "execution_count": 561,
     "metadata": {},
     "output_type": "execute_result"
    }
   ],
   "source": [
    "from sklearn.linear_model import LogisticRegression\n",
    "clf = LogisticRegression(random_state=0)\n",
    "clf.fit(X_train, y_train)"
   ]
  },
  {
   "cell_type": "code",
   "execution_count": 562,
   "id": "9383f225",
   "metadata": {
    "scrolled": true
   },
   "outputs": [
    {
     "data": {
      "text/plain": [
       "0.8443377350940376"
      ]
     },
     "execution_count": 562,
     "metadata": {},
     "output_type": "execute_result"
    }
   ],
   "source": [
    "clf.score(X_train, y_train)"
   ]
  },
  {
   "cell_type": "code",
   "execution_count": 563,
   "id": "e35d660b",
   "metadata": {},
   "outputs": [
    {
     "data": {
      "text/plain": [
       "0.8489208633093526"
      ]
     },
     "execution_count": 563,
     "metadata": {},
     "output_type": "execute_result"
    }
   ],
   "source": [
    "clf.score(X_test, y_test)"
   ]
  },
  {
   "cell_type": "code",
   "execution_count": 564,
   "id": "43b19837",
   "metadata": {},
   "outputs": [
    {
     "data": {
      "text/html": [
       "<div>\n",
       "<style scoped>\n",
       "    .dataframe tbody tr th:only-of-type {\n",
       "        vertical-align: middle;\n",
       "    }\n",
       "\n",
       "    .dataframe tbody tr th {\n",
       "        vertical-align: top;\n",
       "    }\n",
       "\n",
       "    .dataframe thead th {\n",
       "        text-align: right;\n",
       "    }\n",
       "</style>\n",
       "<table border=\"1\" class=\"dataframe\">\n",
       "  <thead>\n",
       "    <tr style=\"text-align: right;\">\n",
       "      <th></th>\n",
       "      <th>(Base)Logistic Regression</th>\n",
       "    </tr>\n",
       "  </thead>\n",
       "  <tbody>\n",
       "    <tr>\n",
       "      <th>Train</th>\n",
       "      <td>0.844338</td>\n",
       "    </tr>\n",
       "    <tr>\n",
       "      <th>Test</th>\n",
       "      <td>0.848921</td>\n",
       "    </tr>\n",
       "  </tbody>\n",
       "</table>\n",
       "</div>"
      ],
      "text/plain": [
       "       (Base)Logistic Regression\n",
       "Train                   0.844338\n",
       "Test                    0.848921"
      ]
     },
     "execution_count": 564,
     "metadata": {},
     "output_type": "execute_result"
    }
   ],
   "source": [
    "# Making a Dataframe for scores\n",
    "df_score = pd.DataFrame({\"(Base)Logistic Regression\":[clf.score(X_train, y_train),clf.score(X_test, y_test)]})\n",
    "\n",
    "# Setting up our index\n",
    "df_score.set_index([pd.Index(['Train','Test'])],inplace=True)\n",
    "\n",
    "df_score"
   ]
  },
  {
   "cell_type": "markdown",
   "id": "6eb42043",
   "metadata": {},
   "source": [
    "# Feature Importance"
   ]
  },
  {
   "cell_type": "code",
   "execution_count": 565,
   "id": "05f2bd5f",
   "metadata": {},
   "outputs": [
    {
     "data": {
      "image/png": "[encoded data removed]",
      "text/plain": [
       "<Figure size 432x288 with 1 Axes>"
      ]
     },
     "metadata": {
      "needs_background": "light"
     },
     "output_type": "display_data"
    }
   ],
   "source": [
    "# plot feature importance\n",
    "importance = clf.coef_[0]\n",
    "plt.barh(X_train.columns, importance)\n",
    "plt.show()"
   ]
  },
  {
   "cell_type": "markdown",
   "id": "43880083",
   "metadata": {},
   "source": [
    "# Classification Report"
   ]
  },
  {
   "cell_type": "code",
   "execution_count": 566,
   "id": "b5d36c92",
   "metadata": {},
   "outputs": [
    {
     "name": "stdout",
     "output_type": "stream",
     "text": [
      "              precision    recall  f1-score   support\n",
      "\n",
      "           0       0.88      0.96      0.92       709\n",
      "           1       0.49      0.22      0.31       125\n",
      "\n",
      "    accuracy                           0.85       834\n",
      "   macro avg       0.68      0.59      0.61       834\n",
      "weighted avg       0.82      0.85      0.82       834\n",
      "\n"
     ]
    }
   ],
   "source": [
    "from sklearn.metrics import classification_report\n",
    "print(classification_report(y_test,clf.predict(X_test)))"
   ]
  },
  {
   "cell_type": "markdown",
   "id": "6c3b9d4e",
   "metadata": {},
   "source": [
    "# Confusion Matrix"
   ]
  },
  {
   "cell_type": "code",
   "execution_count": 567,
   "id": "a9cce6cb",
   "metadata": {},
   "outputs": [
    {
     "data": {
      "image/png": "[encoded data removed]",
      "text/plain": [
       "<Figure size 432x288 with 2 Axes>"
      ]
     },
     "metadata": {
      "needs_background": "light"
     },
     "output_type": "display_data"
    },
    {
     "data": {
      "text/plain": [
       "<Figure size 1080x1080 with 0 Axes>"
      ]
     },
     "metadata": {},
     "output_type": "display_data"
    }
   ],
   "source": [
    "from sklearn.metrics import plot_confusion_matrix\n",
    "plot_confusion_matrix(clf,X_test, y_test)  \n",
    "plt.figure(figsize=(15, 15))\n",
    "plt.show()"
   ]
  },
  {
   "cell_type": "code",
   "execution_count": 568,
   "id": "cbbbd4bf",
   "metadata": {},
   "outputs": [],
   "source": [
    "import warnings\n",
    "warnings.filterwarnings('ignore')\n",
    "\n",
    "from sklearn.model_selection import cross_val_score\n",
    "scores = cross_val_score(clf, X_train, y_train, cv=10)"
   ]
  },
  {
   "cell_type": "code",
   "execution_count": 569,
   "id": "ba80ad86",
   "metadata": {},
   "outputs": [
    {
     "name": "stdout",
     "output_type": "stream",
     "text": [
      "Cross-Validation Accuracy Scores [0.856      0.828      0.876      0.864      0.816      0.824\n",
      " 0.816      0.832      0.832      0.86746988]\n"
     ]
    }
   ],
   "source": [
    "print('Cross-Validation Accuracy Scores', scores)"
   ]
  },
  {
   "cell_type": "code",
   "execution_count": 570,
   "id": "44b6a7dd",
   "metadata": {},
   "outputs": [
    {
     "data": {
      "text/plain": [
       "[<matplotlib.lines.Line2D at 0x7f83465e0f70>]"
      ]
     },
     "execution_count": 570,
     "metadata": {},
     "output_type": "execute_result"
    },
    {
     "data": {
      "image/png": "[encoded data removed]",
      "text/plain": [
       "<Figure size 432x288 with 1 Axes>"
      ]
     },
     "metadata": {
      "needs_background": "light"
     },
     "output_type": "display_data"
    }
   ],
   "source": [
    "plt.plot(scores)"
   ]
  },
  {
   "cell_type": "markdown",
   "id": "d837b47a",
   "metadata": {},
   "source": [
    "# Feature Engineering"
   ]
  },
  {
   "cell_type": "code",
   "execution_count": 571,
   "id": "c7d004d3",
   "metadata": {},
   "outputs": [
    {
     "data": {
      "text/html": [
       "<div>\n",
       "<style scoped>\n",
       "    .dataframe tbody tr th:only-of-type {\n",
       "        vertical-align: middle;\n",
       "    }\n",
       "\n",
       "    .dataframe tbody tr th {\n",
       "        vertical-align: top;\n",
       "    }\n",
       "\n",
       "    .dataframe thead th {\n",
       "        text-align: right;\n",
       "    }\n",
       "</style>\n",
       "<table border=\"1\" class=\"dataframe\">\n",
       "  <thead>\n",
       "    <tr style=\"text-align: right;\">\n",
       "      <th></th>\n",
       "      <th>AccountWeeks</th>\n",
       "      <th>DataUsage</th>\n",
       "      <th>DayMins</th>\n",
       "      <th>DayCalls</th>\n",
       "      <th>MonthlyCharge</th>\n",
       "      <th>OverageFee</th>\n",
       "      <th>RoamMins</th>\n",
       "      <th>ContractRenewal_0</th>\n",
       "      <th>ContractRenewal_1</th>\n",
       "      <th>DataPlan_0</th>\n",
       "      <th>...</th>\n",
       "      <th>CustServCalls_0</th>\n",
       "      <th>CustServCalls_1</th>\n",
       "      <th>CustServCalls_2</th>\n",
       "      <th>CustServCalls_3</th>\n",
       "      <th>CustServCalls_4</th>\n",
       "      <th>CustServCalls_5</th>\n",
       "      <th>CustServCalls_6</th>\n",
       "      <th>CustServCalls_7</th>\n",
       "      <th>CustServCalls_8</th>\n",
       "      <th>CustServCalls_9</th>\n",
       "    </tr>\n",
       "  </thead>\n",
       "  <tbody>\n",
       "    <tr>\n",
       "      <th>0</th>\n",
       "      <td>128</td>\n",
       "      <td>2.7</td>\n",
       "      <td>265.1</td>\n",
       "      <td>110</td>\n",
       "      <td>89.0</td>\n",
       "      <td>9.87</td>\n",
       "      <td>10.0</td>\n",
       "      <td>0</td>\n",
       "      <td>1</td>\n",
       "      <td>0</td>\n",
       "      <td>...</td>\n",
       "      <td>0</td>\n",
       "      <td>1</td>\n",
       "      <td>0</td>\n",
       "      <td>0</td>\n",
       "      <td>0</td>\n",
       "      <td>0</td>\n",
       "      <td>0</td>\n",
       "      <td>0</td>\n",
       "      <td>0</td>\n",
       "      <td>0</td>\n",
       "    </tr>\n",
       "    <tr>\n",
       "      <th>1</th>\n",
       "      <td>107</td>\n",
       "      <td>3.7</td>\n",
       "      <td>161.6</td>\n",
       "      <td>123</td>\n",
       "      <td>82.0</td>\n",
       "      <td>9.78</td>\n",
       "      <td>13.7</td>\n",
       "      <td>0</td>\n",
       "      <td>1</td>\n",
       "      <td>0</td>\n",
       "      <td>...</td>\n",
       "      <td>0</td>\n",
       "      <td>1</td>\n",
       "      <td>0</td>\n",
       "      <td>0</td>\n",
       "      <td>0</td>\n",
       "      <td>0</td>\n",
       "      <td>0</td>\n",
       "      <td>0</td>\n",
       "      <td>0</td>\n",
       "      <td>0</td>\n",
       "    </tr>\n",
       "    <tr>\n",
       "      <th>2</th>\n",
       "      <td>137</td>\n",
       "      <td>0.0</td>\n",
       "      <td>243.4</td>\n",
       "      <td>114</td>\n",
       "      <td>52.0</td>\n",
       "      <td>6.06</td>\n",
       "      <td>12.2</td>\n",
       "      <td>0</td>\n",
       "      <td>1</td>\n",
       "      <td>1</td>\n",
       "      <td>...</td>\n",
       "      <td>1</td>\n",
       "      <td>0</td>\n",
       "      <td>0</td>\n",
       "      <td>0</td>\n",
       "      <td>0</td>\n",
       "      <td>0</td>\n",
       "      <td>0</td>\n",
       "      <td>0</td>\n",
       "      <td>0</td>\n",
       "      <td>0</td>\n",
       "    </tr>\n",
       "    <tr>\n",
       "      <th>3</th>\n",
       "      <td>84</td>\n",
       "      <td>0.0</td>\n",
       "      <td>299.4</td>\n",
       "      <td>71</td>\n",
       "      <td>57.0</td>\n",
       "      <td>3.10</td>\n",
       "      <td>6.6</td>\n",
       "      <td>1</td>\n",
       "      <td>0</td>\n",
       "      <td>1</td>\n",
       "      <td>...</td>\n",
       "      <td>0</td>\n",
       "      <td>0</td>\n",
       "      <td>1</td>\n",
       "      <td>0</td>\n",
       "      <td>0</td>\n",
       "      <td>0</td>\n",
       "      <td>0</td>\n",
       "      <td>0</td>\n",
       "      <td>0</td>\n",
       "      <td>0</td>\n",
       "    </tr>\n",
       "    <tr>\n",
       "      <th>4</th>\n",
       "      <td>75</td>\n",
       "      <td>0.0</td>\n",
       "      <td>166.7</td>\n",
       "      <td>113</td>\n",
       "      <td>41.0</td>\n",
       "      <td>7.42</td>\n",
       "      <td>10.1</td>\n",
       "      <td>1</td>\n",
       "      <td>0</td>\n",
       "      <td>1</td>\n",
       "      <td>...</td>\n",
       "      <td>0</td>\n",
       "      <td>0</td>\n",
       "      <td>0</td>\n",
       "      <td>1</td>\n",
       "      <td>0</td>\n",
       "      <td>0</td>\n",
       "      <td>0</td>\n",
       "      <td>0</td>\n",
       "      <td>0</td>\n",
       "      <td>0</td>\n",
       "    </tr>\n",
       "  </tbody>\n",
       "</table>\n",
       "<p>5 rows × 21 columns</p>\n",
       "</div>"
      ],
      "text/plain": [
       "   AccountWeeks  DataUsage  DayMins  DayCalls  MonthlyCharge  OverageFee  \\\n",
       "0           128        2.7    265.1       110           89.0        9.87   \n",
       "1           107        3.7    161.6       123           82.0        9.78   \n",
       "2           137        0.0    243.4       114           52.0        6.06   \n",
       "3            84        0.0    299.4        71           57.0        3.10   \n",
       "4            75        0.0    166.7       113           41.0        7.42   \n",
       "\n",
       "   RoamMins  ContractRenewal_0  ContractRenewal_1  DataPlan_0  ...  \\\n",
       "0      10.0                  0                  1           0  ...   \n",
       "1      13.7                  0                  1           0  ...   \n",
       "2      12.2                  0                  1           1  ...   \n",
       "3       6.6                  1                  0           1  ...   \n",
       "4      10.1                  1                  0           1  ...   \n",
       "\n",
       "   CustServCalls_0  CustServCalls_1  CustServCalls_2  CustServCalls_3  \\\n",
       "0                0                1                0                0   \n",
       "1                0                1                0                0   \n",
       "2                1                0                0                0   \n",
       "3                0                0                1                0   \n",
       "4                0                0                0                1   \n",
       "\n",
       "   CustServCalls_4  CustServCalls_5  CustServCalls_6  CustServCalls_7  \\\n",
       "0                0                0                0                0   \n",
       "1                0                0                0                0   \n",
       "2                0                0                0                0   \n",
       "3                0                0                0                0   \n",
       "4                0                0                0                0   \n",
       "\n",
       "   CustServCalls_8  CustServCalls_9  \n",
       "0                0                0  \n",
       "1                0                0  \n",
       "2                0                0  \n",
       "3                0                0  \n",
       "4                0                0  \n",
       "\n",
       "[5 rows x 21 columns]"
      ]
     },
     "execution_count": 571,
     "metadata": {},
     "output_type": "execute_result"
    }
   ],
   "source": [
    "df_new.head()"
   ]
  },
  {
   "cell_type": "markdown",
   "id": "12175449",
   "metadata": {},
   "source": [
    "I have 3 ideas in my head by looking at the KDE plots of the continuous variables. Let's see how the play out.\n",
    "And remember, i don't know if they will work out or not, in data science, we try things and see how they perform.\n",
    "- Sperate DayMins at 200\n",
    "- Sperate MonthlyCharge at 60\n",
    "- Sperate RoamMins at 13"
   ]
  },
  {
   "cell_type": "code",
   "execution_count": 572,
   "id": "7ce04eb7",
   "metadata": {},
   "outputs": [],
   "source": [
    "# Creating a new copy of data\n",
    "df_new_2 = df_new.copy()"
   ]
  },
  {
   "cell_type": "code",
   "execution_count": 573,
   "id": "303fd381",
   "metadata": {},
   "outputs": [],
   "source": [
    "# First function\n",
    "def daymins(x):\n",
    "    if x > 200:\n",
    "        return 'Greater than 200'\n",
    "    else:\n",
    "        return 'Less than 200'\n",
    "    \n",
    "def monthlycharge(x):\n",
    "    if x > 60:\n",
    "        return 'Greater than 60'\n",
    "    else:\n",
    "        return 'Less than 60'\n",
    "    \n",
    "def roammins(x):\n",
    "    if x > 13:\n",
    "        return 'Greater than 13'\n",
    "    else:\n",
    "        return 'Less than 13'"
   ]
  },
  {
   "cell_type": "code",
   "execution_count": 574,
   "id": "cf242741",
   "metadata": {},
   "outputs": [],
   "source": [
    "df_new_2['DayMins'] = df_new_2['DayMins'].apply(daymins)\n",
    "df_new_2['MonthlyCharge'] = df_new_2['MonthlyCharge'].apply(monthlycharge)\n",
    "df_new_2['RoamMins'] = df_new_2['RoamMins'].apply(roammins)"
   ]
  },
  {
   "cell_type": "code",
   "execution_count": 575,
   "id": "c09dd39b",
   "metadata": {},
   "outputs": [
    {
     "data": {
      "text/html": [
       "<div>\n",
       "<style scoped>\n",
       "    .dataframe tbody tr th:only-of-type {\n",
       "        vertical-align: middle;\n",
       "    }\n",
       "\n",
       "    .dataframe tbody tr th {\n",
       "        vertical-align: top;\n",
       "    }\n",
       "\n",
       "    .dataframe thead th {\n",
       "        text-align: right;\n",
       "    }\n",
       "</style>\n",
       "<table border=\"1\" class=\"dataframe\">\n",
       "  <thead>\n",
       "    <tr style=\"text-align: right;\">\n",
       "      <th></th>\n",
       "      <th>AccountWeeks</th>\n",
       "      <th>DataUsage</th>\n",
       "      <th>DayMins</th>\n",
       "      <th>DayCalls</th>\n",
       "      <th>MonthlyCharge</th>\n",
       "      <th>OverageFee</th>\n",
       "      <th>RoamMins</th>\n",
       "      <th>ContractRenewal_0</th>\n",
       "      <th>ContractRenewal_1</th>\n",
       "      <th>DataPlan_0</th>\n",
       "      <th>...</th>\n",
       "      <th>CustServCalls_0</th>\n",
       "      <th>CustServCalls_1</th>\n",
       "      <th>CustServCalls_2</th>\n",
       "      <th>CustServCalls_3</th>\n",
       "      <th>CustServCalls_4</th>\n",
       "      <th>CustServCalls_5</th>\n",
       "      <th>CustServCalls_6</th>\n",
       "      <th>CustServCalls_7</th>\n",
       "      <th>CustServCalls_8</th>\n",
       "      <th>CustServCalls_9</th>\n",
       "    </tr>\n",
       "  </thead>\n",
       "  <tbody>\n",
       "    <tr>\n",
       "      <th>0</th>\n",
       "      <td>128</td>\n",
       "      <td>2.7</td>\n",
       "      <td>Greater than 200</td>\n",
       "      <td>110</td>\n",
       "      <td>Greater than 60</td>\n",
       "      <td>9.87</td>\n",
       "      <td>Less than 13</td>\n",
       "      <td>0</td>\n",
       "      <td>1</td>\n",
       "      <td>0</td>\n",
       "      <td>...</td>\n",
       "      <td>0</td>\n",
       "      <td>1</td>\n",
       "      <td>0</td>\n",
       "      <td>0</td>\n",
       "      <td>0</td>\n",
       "      <td>0</td>\n",
       "      <td>0</td>\n",
       "      <td>0</td>\n",
       "      <td>0</td>\n",
       "      <td>0</td>\n",
       "    </tr>\n",
       "    <tr>\n",
       "      <th>1</th>\n",
       "      <td>107</td>\n",
       "      <td>3.7</td>\n",
       "      <td>Less than 200</td>\n",
       "      <td>123</td>\n",
       "      <td>Greater than 60</td>\n",
       "      <td>9.78</td>\n",
       "      <td>Greater than 13</td>\n",
       "      <td>0</td>\n",
       "      <td>1</td>\n",
       "      <td>0</td>\n",
       "      <td>...</td>\n",
       "      <td>0</td>\n",
       "      <td>1</td>\n",
       "      <td>0</td>\n",
       "      <td>0</td>\n",
       "      <td>0</td>\n",
       "      <td>0</td>\n",
       "      <td>0</td>\n",
       "      <td>0</td>\n",
       "      <td>0</td>\n",
       "      <td>0</td>\n",
       "    </tr>\n",
       "    <tr>\n",
       "      <th>2</th>\n",
       "      <td>137</td>\n",
       "      <td>0.0</td>\n",
       "      <td>Greater than 200</td>\n",
       "      <td>114</td>\n",
       "      <td>Less than 60</td>\n",
       "      <td>6.06</td>\n",
       "      <td>Less than 13</td>\n",
       "      <td>0</td>\n",
       "      <td>1</td>\n",
       "      <td>1</td>\n",
       "      <td>...</td>\n",
       "      <td>1</td>\n",
       "      <td>0</td>\n",
       "      <td>0</td>\n",
       "      <td>0</td>\n",
       "      <td>0</td>\n",
       "      <td>0</td>\n",
       "      <td>0</td>\n",
       "      <td>0</td>\n",
       "      <td>0</td>\n",
       "      <td>0</td>\n",
       "    </tr>\n",
       "    <tr>\n",
       "      <th>3</th>\n",
       "      <td>84</td>\n",
       "      <td>0.0</td>\n",
       "      <td>Greater than 200</td>\n",
       "      <td>71</td>\n",
       "      <td>Less than 60</td>\n",
       "      <td>3.10</td>\n",
       "      <td>Less than 13</td>\n",
       "      <td>1</td>\n",
       "      <td>0</td>\n",
       "      <td>1</td>\n",
       "      <td>...</td>\n",
       "      <td>0</td>\n",
       "      <td>0</td>\n",
       "      <td>1</td>\n",
       "      <td>0</td>\n",
       "      <td>0</td>\n",
       "      <td>0</td>\n",
       "      <td>0</td>\n",
       "      <td>0</td>\n",
       "      <td>0</td>\n",
       "      <td>0</td>\n",
       "    </tr>\n",
       "    <tr>\n",
       "      <th>4</th>\n",
       "      <td>75</td>\n",
       "      <td>0.0</td>\n",
       "      <td>Less than 200</td>\n",
       "      <td>113</td>\n",
       "      <td>Less than 60</td>\n",
       "      <td>7.42</td>\n",
       "      <td>Less than 13</td>\n",
       "      <td>1</td>\n",
       "      <td>0</td>\n",
       "      <td>1</td>\n",
       "      <td>...</td>\n",
       "      <td>0</td>\n",
       "      <td>0</td>\n",
       "      <td>0</td>\n",
       "      <td>1</td>\n",
       "      <td>0</td>\n",
       "      <td>0</td>\n",
       "      <td>0</td>\n",
       "      <td>0</td>\n",
       "      <td>0</td>\n",
       "      <td>0</td>\n",
       "    </tr>\n",
       "  </tbody>\n",
       "</table>\n",
       "<p>5 rows × 21 columns</p>\n",
       "</div>"
      ],
      "text/plain": [
       "   AccountWeeks  DataUsage           DayMins  DayCalls    MonthlyCharge  \\\n",
       "0           128        2.7  Greater than 200       110  Greater than 60   \n",
       "1           107        3.7     Less than 200       123  Greater than 60   \n",
       "2           137        0.0  Greater than 200       114     Less than 60   \n",
       "3            84        0.0  Greater than 200        71     Less than 60   \n",
       "4            75        0.0     Less than 200       113     Less than 60   \n",
       "\n",
       "   OverageFee         RoamMins  ContractRenewal_0  ContractRenewal_1  \\\n",
       "0        9.87     Less than 13                  0                  1   \n",
       "1        9.78  Greater than 13                  0                  1   \n",
       "2        6.06     Less than 13                  0                  1   \n",
       "3        3.10     Less than 13                  1                  0   \n",
       "4        7.42     Less than 13                  1                  0   \n",
       "\n",
       "   DataPlan_0  ...  CustServCalls_0  CustServCalls_1  CustServCalls_2  \\\n",
       "0           0  ...                0                1                0   \n",
       "1           0  ...                0                1                0   \n",
       "2           1  ...                1                0                0   \n",
       "3           1  ...                0                0                1   \n",
       "4           1  ...                0                0                0   \n",
       "\n",
       "   CustServCalls_3  CustServCalls_4  CustServCalls_5  CustServCalls_6  \\\n",
       "0                0                0                0                0   \n",
       "1                0                0                0                0   \n",
       "2                0                0                0                0   \n",
       "3                0                0                0                0   \n",
       "4                1                0                0                0   \n",
       "\n",
       "   CustServCalls_7  CustServCalls_8  CustServCalls_9  \n",
       "0                0                0                0  \n",
       "1                0                0                0  \n",
       "2                0                0                0  \n",
       "3                0                0                0  \n",
       "4                0                0                0  \n",
       "\n",
       "[5 rows x 21 columns]"
      ]
     },
     "execution_count": 575,
     "metadata": {},
     "output_type": "execute_result"
    }
   ],
   "source": [
    "df_new_2.head()"
   ]
  },
  {
   "cell_type": "code",
   "execution_count": 576,
   "id": "cce295d3",
   "metadata": {
    "scrolled": true
   },
   "outputs": [
    {
     "data": {
      "text/plain": [
       "(3333, 21)"
      ]
     },
     "execution_count": 576,
     "metadata": {},
     "output_type": "execute_result"
    }
   ],
   "source": [
    "df_new_2.shape"
   ]
  },
  {
   "cell_type": "code",
   "execution_count": 577,
   "id": "2b8ca84d",
   "metadata": {},
   "outputs": [
    {
     "name": "stdout",
     "output_type": "stream",
     "text": [
      "<class 'pandas.core.frame.DataFrame'>\n",
      "RangeIndex: 3333 entries, 0 to 3332\n",
      "Data columns (total 21 columns):\n",
      " #   Column             Non-Null Count  Dtype  \n",
      "---  ------             --------------  -----  \n",
      " 0   AccountWeeks       3333 non-null   int64  \n",
      " 1   DataUsage          3333 non-null   float64\n",
      " 2   DayMins            3333 non-null   object \n",
      " 3   DayCalls           3333 non-null   int64  \n",
      " 4   MonthlyCharge      3333 non-null   object \n",
      " 5   OverageFee         3333 non-null   float64\n",
      " 6   RoamMins           3333 non-null   object \n",
      " 7   ContractRenewal_0  3333 non-null   uint8  \n",
      " 8   ContractRenewal_1  3333 non-null   uint8  \n",
      " 9   DataPlan_0         3333 non-null   uint8  \n",
      " 10  DataPlan_1         3333 non-null   uint8  \n",
      " 11  CustServCalls_0    3333 non-null   uint8  \n",
      " 12  CustServCalls_1    3333 non-null   uint8  \n",
      " 13  CustServCalls_2    3333 non-null   uint8  \n",
      " 14  CustServCalls_3    3333 non-null   uint8  \n",
      " 15  CustServCalls_4    3333 non-null   uint8  \n",
      " 16  CustServCalls_5    3333 non-null   uint8  \n",
      " 17  CustServCalls_6    3333 non-null   uint8  \n",
      " 18  CustServCalls_7    3333 non-null   uint8  \n",
      " 19  CustServCalls_8    3333 non-null   uint8  \n",
      " 20  CustServCalls_9    3333 non-null   uint8  \n",
      "dtypes: float64(2), int64(2), object(3), uint8(14)\n",
      "memory usage: 228.0+ KB\n"
     ]
    }
   ],
   "source": [
    "df_new_2.info()"
   ]
  },
  {
   "cell_type": "code",
   "execution_count": 578,
   "id": "97e96b1b",
   "metadata": {},
   "outputs": [],
   "source": [
    "df_new_3 = pd.get_dummies(df_new_2)"
   ]
  },
  {
   "cell_type": "code",
   "execution_count": 579,
   "id": "a29ae916",
   "metadata": {},
   "outputs": [
    {
     "data": {
      "text/plain": [
       "(3333, 24)"
      ]
     },
     "execution_count": 579,
     "metadata": {},
     "output_type": "execute_result"
    }
   ],
   "source": [
    "df_new_3.shape"
   ]
  },
  {
   "cell_type": "code",
   "execution_count": 580,
   "id": "d8d70120",
   "metadata": {},
   "outputs": [
    {
     "name": "stdout",
     "output_type": "stream",
     "text": [
      "<class 'pandas.core.frame.DataFrame'>\n",
      "RangeIndex: 3333 entries, 0 to 3332\n",
      "Data columns (total 24 columns):\n",
      " #   Column                         Non-Null Count  Dtype  \n",
      "---  ------                         --------------  -----  \n",
      " 0   AccountWeeks                   3333 non-null   int64  \n",
      " 1   DataUsage                      3333 non-null   float64\n",
      " 2   DayCalls                       3333 non-null   int64  \n",
      " 3   OverageFee                     3333 non-null   float64\n",
      " 4   ContractRenewal_0              3333 non-null   uint8  \n",
      " 5   ContractRenewal_1              3333 non-null   uint8  \n",
      " 6   DataPlan_0                     3333 non-null   uint8  \n",
      " 7   DataPlan_1                     3333 non-null   uint8  \n",
      " 8   CustServCalls_0                3333 non-null   uint8  \n",
      " 9   CustServCalls_1                3333 non-null   uint8  \n",
      " 10  CustServCalls_2                3333 non-null   uint8  \n",
      " 11  CustServCalls_3                3333 non-null   uint8  \n",
      " 12  CustServCalls_4                3333 non-null   uint8  \n",
      " 13  CustServCalls_5                3333 non-null   uint8  \n",
      " 14  CustServCalls_6                3333 non-null   uint8  \n",
      " 15  CustServCalls_7                3333 non-null   uint8  \n",
      " 16  CustServCalls_8                3333 non-null   uint8  \n",
      " 17  CustServCalls_9                3333 non-null   uint8  \n",
      " 18  DayMins_Greater than 200       3333 non-null   uint8  \n",
      " 19  DayMins_Less than 200          3333 non-null   uint8  \n",
      " 20  MonthlyCharge_Greater than 60  3333 non-null   uint8  \n",
      " 21  MonthlyCharge_Less than 60     3333 non-null   uint8  \n",
      " 22  RoamMins_Greater than 13       3333 non-null   uint8  \n",
      " 23  RoamMins_Less than 13          3333 non-null   uint8  \n",
      "dtypes: float64(2), int64(2), uint8(20)\n",
      "memory usage: 169.4 KB\n"
     ]
    }
   ],
   "source": [
    "df_new_3.info()"
   ]
  },
  {
   "cell_type": "code",
   "execution_count": 581,
   "id": "9bc62fe5",
   "metadata": {
    "scrolled": true
   },
   "outputs": [
    {
     "data": {
      "text/html": [
       "<div>\n",
       "<style scoped>\n",
       "    .dataframe tbody tr th:only-of-type {\n",
       "        vertical-align: middle;\n",
       "    }\n",
       "\n",
       "    .dataframe tbody tr th {\n",
       "        vertical-align: top;\n",
       "    }\n",
       "\n",
       "    .dataframe thead th {\n",
       "        text-align: right;\n",
       "    }\n",
       "</style>\n",
       "<table border=\"1\" class=\"dataframe\">\n",
       "  <thead>\n",
       "    <tr style=\"text-align: right;\">\n",
       "      <th></th>\n",
       "      <th>AccountWeeks</th>\n",
       "      <th>DataUsage</th>\n",
       "      <th>DayCalls</th>\n",
       "      <th>OverageFee</th>\n",
       "      <th>ContractRenewal_0</th>\n",
       "      <th>ContractRenewal_1</th>\n",
       "      <th>DataPlan_0</th>\n",
       "      <th>DataPlan_1</th>\n",
       "      <th>CustServCalls_0</th>\n",
       "      <th>CustServCalls_1</th>\n",
       "      <th>...</th>\n",
       "      <th>CustServCalls_6</th>\n",
       "      <th>CustServCalls_7</th>\n",
       "      <th>CustServCalls_8</th>\n",
       "      <th>CustServCalls_9</th>\n",
       "      <th>DayMins_Greater than 200</th>\n",
       "      <th>DayMins_Less than 200</th>\n",
       "      <th>MonthlyCharge_Greater than 60</th>\n",
       "      <th>MonthlyCharge_Less than 60</th>\n",
       "      <th>RoamMins_Greater than 13</th>\n",
       "      <th>RoamMins_Less than 13</th>\n",
       "    </tr>\n",
       "  </thead>\n",
       "  <tbody>\n",
       "    <tr>\n",
       "      <th>0</th>\n",
       "      <td>128</td>\n",
       "      <td>2.7</td>\n",
       "      <td>110</td>\n",
       "      <td>9.87</td>\n",
       "      <td>0</td>\n",
       "      <td>1</td>\n",
       "      <td>0</td>\n",
       "      <td>1</td>\n",
       "      <td>0</td>\n",
       "      <td>1</td>\n",
       "      <td>...</td>\n",
       "      <td>0</td>\n",
       "      <td>0</td>\n",
       "      <td>0</td>\n",
       "      <td>0</td>\n",
       "      <td>1</td>\n",
       "      <td>0</td>\n",
       "      <td>1</td>\n",
       "      <td>0</td>\n",
       "      <td>0</td>\n",
       "      <td>1</td>\n",
       "    </tr>\n",
       "    <tr>\n",
       "      <th>1</th>\n",
       "      <td>107</td>\n",
       "      <td>3.7</td>\n",
       "      <td>123</td>\n",
       "      <td>9.78</td>\n",
       "      <td>0</td>\n",
       "      <td>1</td>\n",
       "      <td>0</td>\n",
       "      <td>1</td>\n",
       "      <td>0</td>\n",
       "      <td>1</td>\n",
       "      <td>...</td>\n",
       "      <td>0</td>\n",
       "      <td>0</td>\n",
       "      <td>0</td>\n",
       "      <td>0</td>\n",
       "      <td>0</td>\n",
       "      <td>1</td>\n",
       "      <td>1</td>\n",
       "      <td>0</td>\n",
       "      <td>1</td>\n",
       "      <td>0</td>\n",
       "    </tr>\n",
       "    <tr>\n",
       "      <th>2</th>\n",
       "      <td>137</td>\n",
       "      <td>0.0</td>\n",
       "      <td>114</td>\n",
       "      <td>6.06</td>\n",
       "      <td>0</td>\n",
       "      <td>1</td>\n",
       "      <td>1</td>\n",
       "      <td>0</td>\n",
       "      <td>1</td>\n",
       "      <td>0</td>\n",
       "      <td>...</td>\n",
       "      <td>0</td>\n",
       "      <td>0</td>\n",
       "      <td>0</td>\n",
       "      <td>0</td>\n",
       "      <td>1</td>\n",
       "      <td>0</td>\n",
       "      <td>0</td>\n",
       "      <td>1</td>\n",
       "      <td>0</td>\n",
       "      <td>1</td>\n",
       "    </tr>\n",
       "    <tr>\n",
       "      <th>3</th>\n",
       "      <td>84</td>\n",
       "      <td>0.0</td>\n",
       "      <td>71</td>\n",
       "      <td>3.10</td>\n",
       "      <td>1</td>\n",
       "      <td>0</td>\n",
       "      <td>1</td>\n",
       "      <td>0</td>\n",
       "      <td>0</td>\n",
       "      <td>0</td>\n",
       "      <td>...</td>\n",
       "      <td>0</td>\n",
       "      <td>0</td>\n",
       "      <td>0</td>\n",
       "      <td>0</td>\n",
       "      <td>1</td>\n",
       "      <td>0</td>\n",
       "      <td>0</td>\n",
       "      <td>1</td>\n",
       "      <td>0</td>\n",
       "      <td>1</td>\n",
       "    </tr>\n",
       "    <tr>\n",
       "      <th>4</th>\n",
       "      <td>75</td>\n",
       "      <td>0.0</td>\n",
       "      <td>113</td>\n",
       "      <td>7.42</td>\n",
       "      <td>1</td>\n",
       "      <td>0</td>\n",
       "      <td>1</td>\n",
       "      <td>0</td>\n",
       "      <td>0</td>\n",
       "      <td>0</td>\n",
       "      <td>...</td>\n",
       "      <td>0</td>\n",
       "      <td>0</td>\n",
       "      <td>0</td>\n",
       "      <td>0</td>\n",
       "      <td>0</td>\n",
       "      <td>1</td>\n",
       "      <td>0</td>\n",
       "      <td>1</td>\n",
       "      <td>0</td>\n",
       "      <td>1</td>\n",
       "    </tr>\n",
       "  </tbody>\n",
       "</table>\n",
       "<p>5 rows × 24 columns</p>\n",
       "</div>"
      ],
      "text/plain": [
       "   AccountWeeks  DataUsage  DayCalls  OverageFee  ContractRenewal_0  \\\n",
       "0           128        2.7       110        9.87                  0   \n",
       "1           107        3.7       123        9.78                  0   \n",
       "2           137        0.0       114        6.06                  0   \n",
       "3            84        0.0        71        3.10                  1   \n",
       "4            75        0.0       113        7.42                  1   \n",
       "\n",
       "   ContractRenewal_1  DataPlan_0  DataPlan_1  CustServCalls_0  \\\n",
       "0                  1           0           1                0   \n",
       "1                  1           0           1                0   \n",
       "2                  1           1           0                1   \n",
       "3                  0           1           0                0   \n",
       "4                  0           1           0                0   \n",
       "\n",
       "   CustServCalls_1  ...  CustServCalls_6  CustServCalls_7  CustServCalls_8  \\\n",
       "0                1  ...                0                0                0   \n",
       "1                1  ...                0                0                0   \n",
       "2                0  ...                0                0                0   \n",
       "3                0  ...                0                0                0   \n",
       "4                0  ...                0                0                0   \n",
       "\n",
       "   CustServCalls_9  DayMins_Greater than 200  DayMins_Less than 200  \\\n",
       "0                0                         1                      0   \n",
       "1                0                         0                      1   \n",
       "2                0                         1                      0   \n",
       "3                0                         1                      0   \n",
       "4                0                         0                      1   \n",
       "\n",
       "   MonthlyCharge_Greater than 60  MonthlyCharge_Less than 60  \\\n",
       "0                              1                           0   \n",
       "1                              1                           0   \n",
       "2                              0                           1   \n",
       "3                              0                           1   \n",
       "4                              0                           1   \n",
       "\n",
       "   RoamMins_Greater than 13  RoamMins_Less than 13  \n",
       "0                         0                      1  \n",
       "1                         1                      0  \n",
       "2                         0                      1  \n",
       "3                         0                      1  \n",
       "4                         0                      1  \n",
       "\n",
       "[5 rows x 24 columns]"
      ]
     },
     "execution_count": 581,
     "metadata": {},
     "output_type": "execute_result"
    }
   ],
   "source": [
    "df_new_3.head()"
   ]
  },
  {
   "cell_type": "code",
   "execution_count": 582,
   "id": "3cded682",
   "metadata": {},
   "outputs": [],
   "source": [
    "from sklearn.model_selection import train_test_split\n",
    "X = df_new_3\n",
    "X_train, X_test, y_train, y_test = train_test_split(X, y, test_size=0.25, random_state=42)"
   ]
  },
  {
   "cell_type": "code",
   "execution_count": 583,
   "id": "5a8e0b6f",
   "metadata": {},
   "outputs": [
    {
     "data": {
      "text/plain": [
       "LogisticRegression(random_state=0)"
      ]
     },
     "execution_count": 583,
     "metadata": {},
     "output_type": "execute_result"
    }
   ],
   "source": [
    "# Basic Modelling\n",
    "from sklearn.linear_model import LogisticRegression\n",
    "clf2 = LogisticRegression(random_state=0)\n",
    "clf2.fit(X_train, y_train)"
   ]
  },
  {
   "cell_type": "code",
   "execution_count": 584,
   "id": "dee879fe",
   "metadata": {},
   "outputs": [
    {
     "data": {
      "text/plain": [
       "0.8855542216886755"
      ]
     },
     "execution_count": 584,
     "metadata": {},
     "output_type": "execute_result"
    }
   ],
   "source": [
    "clf2.score(X_train, y_train)"
   ]
  },
  {
   "cell_type": "code",
   "execution_count": 585,
   "id": "40ed651e",
   "metadata": {},
   "outputs": [
    {
     "data": {
      "text/plain": [
       "0.8920863309352518"
      ]
     },
     "execution_count": 585,
     "metadata": {},
     "output_type": "execute_result"
    }
   ],
   "source": [
    "clf2.score(X_test, y_test)"
   ]
  },
  {
   "cell_type": "code",
   "execution_count": 586,
   "id": "003781e8",
   "metadata": {},
   "outputs": [
    {
     "data": {
      "image/png": "[encoded data removed]",
      "text/plain": [
       "<Figure size 432x288 with 1 Axes>"
      ]
     },
     "metadata": {
      "needs_background": "light"
     },
     "output_type": "display_data"
    }
   ],
   "source": [
    "# Feature Importance\n",
    "# plot feature importance\n",
    "importance = clf2.coef_[0]\n",
    "plt.barh(X_train.columns, importance)\n",
    "plt.show()"
   ]
  },
  {
   "cell_type": "markdown",
   "id": "f7e769c9",
   "metadata": {},
   "source": [
    "# Classification Report"
   ]
  },
  {
   "cell_type": "code",
   "execution_count": 587,
   "id": "327d2cce",
   "metadata": {},
   "outputs": [
    {
     "name": "stdout",
     "output_type": "stream",
     "text": [
      "              precision    recall  f1-score   support\n",
      "\n",
      "           0       0.91      0.96      0.94       709\n",
      "           1       0.71      0.48      0.57       125\n",
      "\n",
      "    accuracy                           0.89       834\n",
      "   macro avg       0.81      0.72      0.75       834\n",
      "weighted avg       0.88      0.89      0.88       834\n",
      "\n"
     ]
    }
   ],
   "source": [
    "from sklearn.metrics import classification_report\n",
    "print(classification_report(y_test,clf2.predict(X_test)))"
   ]
  },
  {
   "cell_type": "markdown",
   "id": "add761f9",
   "metadata": {},
   "source": [
    "# Confusion Matrix"
   ]
  },
  {
   "cell_type": "code",
   "execution_count": 588,
   "id": "47783386",
   "metadata": {},
   "outputs": [
    {
     "data": {
      "image/png": "[encoded data removed]",
      "text/plain": [
       "<Figure size 432x288 with 2 Axes>"
      ]
     },
     "metadata": {
      "needs_background": "light"
     },
     "output_type": "display_data"
    },
    {
     "data": {
      "text/plain": [
       "<Figure size 1080x1080 with 0 Axes>"
      ]
     },
     "metadata": {},
     "output_type": "display_data"
    }
   ],
   "source": [
    "from sklearn.metrics import plot_confusion_matrix\n",
    "plot_confusion_matrix(clf2,X_test, y_test)  \n",
    "plt.figure(figsize=(15, 15))\n",
    "plt.show()"
   ]
  },
  {
   "cell_type": "code",
   "execution_count": 589,
   "id": "7fad340b",
   "metadata": {},
   "outputs": [],
   "source": [
    "import warnings\n",
    "warnings.filterwarnings('ignore')\n",
    "\n",
    "from sklearn.model_selection import cross_val_score\n",
    "scores2 = cross_val_score(clf2, X_train, y_train, cv=10)"
   ]
  },
  {
   "cell_type": "code",
   "execution_count": 599,
   "id": "a76def6f",
   "metadata": {},
   "outputs": [
    {
     "name": "stdout",
     "output_type": "stream",
     "text": [
      "Cross-Validation Accuracy Scores [0.892     0.884     0.876     0.888     0.88      0.848     0.868\n",
      " 0.856     0.88      0.8875502]\n"
     ]
    }
   ],
   "source": [
    "print('Cross-Validation Accuracy Scores', scores2)"
   ]
  },
  {
   "cell_type": "markdown",
   "id": "94e34cf5",
   "metadata": {},
   "source": [
    "# Comparison of cross-validation scores"
   ]
  },
  {
   "cell_type": "code",
   "execution_count": 602,
   "id": "fc346364",
   "metadata": {},
   "outputs": [
    {
     "data": {
      "image/png": "[encoded data removed]",
      "text/plain": [
       "<Figure size 432x288 with 1 Axes>"
      ]
     },
     "metadata": {
      "needs_background": "light"
     },
     "output_type": "display_data"
    }
   ],
   "source": [
    "plt.plot([x for x in range(len(scores))],scores,label = \"Base Model\")\n",
    "plt.plot([x for x in range(len(scores2))],scores2,label = \"Feature Model\")\n",
    "plt.legend()\n",
    "plt.show()"
   ]
  },
  {
   "cell_type": "markdown",
   "id": "d30a0a3c",
   "metadata": {},
   "source": [
    "# Comparing performance"
   ]
  },
  {
   "cell_type": "code",
   "execution_count": 603,
   "id": "398cb40f",
   "metadata": {},
   "outputs": [],
   "source": [
    "df_score['(Feature_engineered)Logistic Regression'] = [clf2.score(X_train, y_train),clf2.score(X_test, y_test)]"
   ]
  },
  {
   "cell_type": "code",
   "execution_count": 604,
   "id": "4bbdbc9b",
   "metadata": {},
   "outputs": [
    {
     "data": {
      "text/html": [
       "<div>\n",
       "<style scoped>\n",
       "    .dataframe tbody tr th:only-of-type {\n",
       "        vertical-align: middle;\n",
       "    }\n",
       "\n",
       "    .dataframe tbody tr th {\n",
       "        vertical-align: top;\n",
       "    }\n",
       "\n",
       "    .dataframe thead th {\n",
       "        text-align: right;\n",
       "    }\n",
       "</style>\n",
       "<table border=\"1\" class=\"dataframe\">\n",
       "  <thead>\n",
       "    <tr style=\"text-align: right;\">\n",
       "      <th></th>\n",
       "      <th>(Base)Logistic Regression</th>\n",
       "      <th>(Feature_engineered)Logistic Regression</th>\n",
       "    </tr>\n",
       "  </thead>\n",
       "  <tbody>\n",
       "    <tr>\n",
       "      <th>Train</th>\n",
       "      <td>0.844338</td>\n",
       "      <td>0.885554</td>\n",
       "    </tr>\n",
       "    <tr>\n",
       "      <th>Test</th>\n",
       "      <td>0.848921</td>\n",
       "      <td>0.892086</td>\n",
       "    </tr>\n",
       "  </tbody>\n",
       "</table>\n",
       "</div>"
      ],
      "text/plain": [
       "       (Base)Logistic Regression  (Feature_engineered)Logistic Regression\n",
       "Train                   0.844338                                 0.885554\n",
       "Test                    0.848921                                 0.892086"
      ]
     },
     "execution_count": 604,
     "metadata": {},
     "output_type": "execute_result"
    }
   ],
   "source": [
    "df_score"
   ]
  },
  {
   "cell_type": "code",
   "execution_count": 605,
   "id": "18aa36f9",
   "metadata": {},
   "outputs": [
    {
     "data": {
      "text/plain": [
       "<AxesSubplot:>"
      ]
     },
     "execution_count": 605,
     "metadata": {},
     "output_type": "execute_result"
    },
    {
     "data": {
      "image/png": "[encoded data removed]",
      "text/plain": [
       "<Figure size 576x360 with 1 Axes>"
      ]
     },
     "metadata": {
      "needs_background": "light"
     },
     "output_type": "display_data"
    }
   ],
   "source": [
    "df_score.plot(kind='bar',figsize=(8,5),ylim=(0,1.1))"
   ]
  },
  {
   "cell_type": "markdown",
   "id": "8dc54b7e",
   "metadata": {},
   "source": [
    "### Well well, look at that, we not only increased our training accuracy but also our test accuracy as well. And all this without making our model any more complex but rather with creating new features out of our existing data.\n",
    "<br>\n",
    "Now, you can probably think of other ways to divide up these continuous variables and i would encourage you to go and try those ideas that you have and see if you can beat these accuracy scores."
   ]
  },
  {
   "cell_type": "code",
   "execution_count": null,
   "id": "c186581d",
   "metadata": {},
   "outputs": [],
   "source": []
  },
  {
   "cell_type": "code",
   "execution_count": null,
   "id": "19ee9e09",
   "metadata": {},
   "outputs": [],
   "source": []
  },
  {
   "cell_type": "code",
   "execution_count": null,
   "id": "427bea60",
   "metadata": {},
   "outputs": [],
   "source": []
  },
  {
   "cell_type": "code",
   "execution_count": null,
   "id": "a44f0fa7",
   "metadata": {},
   "outputs": [],
   "source": []
  },
  {
   "cell_type": "code",
   "execution_count": null,
   "id": "de803dee",
   "metadata": {},
   "outputs": [],
   "source": []
  },
  {
   "cell_type": "code",
   "execution_count": null,
   "id": "f0de9faf",
   "metadata": {},
   "outputs": [],
   "source": []
  },
  {
   "cell_type": "code",
   "execution_count": null,
   "id": "b30e9201",
   "metadata": {},
   "outputs": [],
   "source": []
  },
  {
   "cell_type": "code",
   "execution_count": null,
   "id": "f39c3381",
   "metadata": {},
   "outputs": [],
   "source": []
  },
  {
   "cell_type": "code",
   "execution_count": null,
   "id": "452f56b5",
   "metadata": {},
   "outputs": [],
   "source": []
  },
  {
   "cell_type": "code",
   "execution_count": null,
   "id": "b5f44450",
   "metadata": {},
   "outputs": [],
   "source": []
  }
 ],
 "metadata": {
  "kernelspec": {
   "display_name": "Python 3 (ipykernel)",
   "language": "python",
   "name": "python3"
  },
  "language_info": {
   "codemirror_mode": {
    "name": "ipython",
    "version": 3
   },
   "file_extension": ".py",
   "mimetype": "text/x-python",
   "name": "python",
   "nbconvert_exporter": "python",
   "pygments_lexer": "ipython3",
   "version": "3.9.7"
  }
 },
 "nbformat": 4,
 "nbformat_minor": 5
}
